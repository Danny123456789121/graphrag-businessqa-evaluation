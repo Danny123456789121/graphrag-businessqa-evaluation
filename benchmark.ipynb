{
 "cells": [
  {
   "cell_type": "code",
   "execution_count": 1,
   "metadata": {},
   "outputs": [],
   "source": [
    "import langchain_community\n",
    "import os"
   ]
  },
  {
   "cell_type": "markdown",
   "metadata": {},
   "source": [
    "# Load Data"
   ]
  },
  {
   "cell_type": "code",
   "execution_count": 2,
   "metadata": {},
   "outputs": [
    {
     "data": {
      "text/plain": [
       "True"
      ]
     },
     "execution_count": 2,
     "metadata": {},
     "output_type": "execute_result"
    }
   ],
   "source": [
    "from langchain_community.document_loaders import DirectoryLoader\n",
    "\n",
    "from dotenv import load_dotenv\n",
    "\n",
    "load_dotenv(override=True)\n",
    "\n",
    "\n",
    "# loader = DirectoryLoader(\"data\", glob=\"*.md\", show_progress=True)\n",
    "# docs = loader.load()\n",
    "\n",
    "# if docs:\n",
    "# \tprint(docs[0].page_content[:100])\n",
    "# else:\n",
    "# \tprint(\"No documents found.\")\n",
    "\n"
   ]
  },
  {
   "cell_type": "markdown",
   "metadata": {},
   "source": [
    "# RAG Framework\n",
    "\n",
    "chunking & emdedding "
   ]
  },
  {
   "cell_type": "code",
   "execution_count": 3,
   "metadata": {},
   "outputs": [
    {
     "name": "stdout",
     "output_type": "stream",
     "text": [
      "Saved 411 chunks to chroma.\n"
     ]
    }
   ],
   "source": [
    "from langchain_community.vectorstores import Chroma\n",
    "from langchain.text_splitter import RecursiveCharacterTextSplitter\n",
    "from langchain_openai import OpenAIEmbeddings\n",
    "from langchain import hub\n",
    "from langchain_openai import ChatOpenAI\n",
    "from langchain_core.output_parsers import StrOutputParser\n",
    "from langchain_core.runnables import RunnablePassthrough\n",
    "from langchain.schema import Document\n",
    "\n",
    "import shutil\n",
    "\n",
    "\n",
    "CHROMA_PATH = \"chroma\"\n",
    "from langchain.schema import Document\n",
    "\n",
    "combined_docs_path = \"combined_documents.md\"\n",
    "with open(combined_docs_path, \"r\", encoding=\"utf-8\") as f:\n",
    "    content = f.read()\n",
    "\n",
    "combined_docs = [Document(page_content=content, metadata={\"source\": combined_docs_path})]\n",
    "\n",
    "# chunking\n",
    "text_splitter = RecursiveCharacterTextSplitter(chunk_size=1000, chunk_overlap=200)\n",
    "chunks = text_splitter.split_documents(combined_docs)\n",
    "\n",
    "# embedding\n",
    "if os.path.exists(CHROMA_PATH):\n",
    "    shutil.rmtree(CHROMA_PATH)\n",
    "\n",
    "vectorstore = Chroma.from_documents(\n",
    "        chunks, OpenAIEmbeddings(), persist_directory=CHROMA_PATH\n",
    ")\n",
    "\n",
    "print(f\"Saved {len(chunks)} chunks to {CHROMA_PATH}.\")\n"
   ]
  },
  {
   "cell_type": "markdown",
   "metadata": {},
   "source": [
    "invoking rag"
   ]
  },
  {
   "cell_type": "code",
   "execution_count": 4,
   "metadata": {},
   "outputs": [
    {
     "name": "stderr",
     "output_type": "stream",
     "text": [
      "e:\\Repositories\\graphrag-businessqa-evaluation\\env\\Lib\\site-packages\\langsmith\\client.py:241: LangSmithMissingAPIKeyWarning: API key must be provided when using hosted LangSmith API\n",
      "  warnings.warn(\n"
     ]
    },
    {
     "name": "stdout",
     "output_type": "stream",
     "text": [
      "first=VectorStoreRetriever(tags=['Chroma', 'OpenAIEmbeddings'], vectorstore=<langchain_community.vectorstores.chroma.Chroma object at 0x00000186D09030E0>, search_kwargs={}) middle=[] last=RunnableLambda(format_docs)\n",
      "tags=['Chroma', 'OpenAIEmbeddings'] vectorstore=<langchain_community.vectorstores.chroma.Chroma object at 0x00000186D09030E0> search_kwargs={}\n",
      "<function format_docs at 0x00000186CD955800>\n"
     ]
    },
    {
     "data": {
      "text/plain": [
       "'Task Decomposition refers to breaking down detailed work activities into more manageable tasks for analysis. This process helps assess the technical automation potential of various occupations by analyzing their component activities. It allows for a clearer understanding of the performance capabilities required for each task.'"
      ]
     },
     "execution_count": 4,
     "metadata": {},
     "output_type": "execute_result"
    }
   ],
   "source": [
    "retriever = vectorstore.as_retriever()\n",
    "prompt = hub.pull(\"rlm/rag-prompt\")\n",
    "\n",
    "def format_docs(docs):\n",
    "    return \"\\n\\n\".join(doc.page_content for doc in docs)\n",
    "\n",
    "llm = ChatOpenAI(model=\"gpt-4o-mini\")\n",
    "\n",
    "rag_chain = (\n",
    "    {\"context\": retriever | format_docs, \"question\": RunnablePassthrough()}\n",
    "    | prompt\n",
    "    | llm\n",
    "    | StrOutputParser()\n",
    ")\n",
    "print(retriever | format_docs)\n",
    "print(retriever)\n",
    "print(format_docs)\n",
    "\n",
    "\n",
    "rag_chain.invoke(\"What is Task Decomposition?\")"
   ]
  },
  {
   "cell_type": "markdown",
   "metadata": {},
   "source": [
    "# Preparing Evaluation"
   ]
  },
  {
   "cell_type": "code",
   "execution_count": 14,
   "metadata": {},
   "outputs": [
    {
     "name": "stdout",
     "output_type": "stream",
     "text": [
      "Questions: ['What is the estimated economic impact of generative AI on the global economy?', 'Which business functions could see the most value from generative AI?', 'How will generative AI affect the future of work?', 'What is the projected timeline for the automation of work activities due to generative AI?', 'What are the key challenges associated with the adoption of generative AI?']\n",
      "Ground Truths: ['Generative AI could add the equivalent of $2.6 trillion to $4.4 trillion annually across the 63 use cases analyzed.', 'About 75 percent of the value that generative AI use cases could deliver falls across four areas: Customer operations, marketing and sales, software engineering, and R&D.', 'Generative AI has the potential to change the anatomy of work, augmenting the capabilities of individual workers by automating some of their individual activities.', 'Estimates suggest that half of today’s work activities could be automated between 2030 and 2060, with a midpoint in 2045.', 'Challenges include managing the risks inherent in generative AI, determining what new skills and capabilities the workforce will need, and rethinking core business processes such as retraining and developing new skills.']\n"
     ]
    }
   ],
   "source": [
    "import json\n",
    "\n",
    "# Load synthetic data\n",
    "with open('synthetic_data_big_context.json', 'r') as f:\n",
    "    synthetic_data = json.load(f)\n",
    "\n",
    "# Access the list under the \"responses\" key\n",
    "if isinstance(synthetic_data, dict) and 'responses' in synthetic_data:\n",
    "    synthetic_data = synthetic_data['responses']\n",
    "\n",
    "# Extract questions, ground_truth, and context\n",
    "questions = [item.get('question', \"\") for item in synthetic_data]\n",
    "ground_truths = [item.get('ground_truth', \"\") for item in synthetic_data]\n",
    "\n",
    "answers = []\n",
    "contexts = []\n",
    "\n",
    "# Print to verify mappings\n",
    "print(\"Questions:\", questions)\n",
    "print(\"Ground Truths:\", ground_truths)\n",
    "\n"
   ]
  },
  {
   "cell_type": "code",
   "execution_count": 22,
   "metadata": {},
   "outputs": [
    {
     "name": "stdout",
     "output_type": "stream",
     "text": [
      "The estimated economic impact of generative AI on the global economy is projected to be between $2.6 trillion and $4.4 trillion annually. This represents an increase of 15 to 40 percent in the overall impact of artificial intelligence. The potential impact could roughly double when considering its integration into existing software used for other tasks.\n",
      "The business functions that could see the most value from generative AI are customer operations, marketing and sales, software engineering, and research and development. These areas are estimated to account for approximately 75 percent of the total annual value generated by AI use cases. Generative AI can enhance interactions, create marketing content, and assist in software development among other applications.\n",
      "Generative AI is expected to significantly change the future of work by automating 60 to 70 percent of tasks that currently consume employees' time. Its enhanced ability to understand natural language will particularly benefit knowledge workers in high-wage occupations. Overall, this will augment individual capabilities and transform work activities, especially in knowledge-intensive roles.\n",
      "The projected timeline for automating work activities due to generative AI ranges from 2030 to 2060, with a midpoint estimate around 2045. This represents a significant acceleration compared to earlier estimates. The automation impact will primarily affect higher-education occupations with higher wages.\n",
      "The key challenges associated with the adoption of generative AI include managing the inherent risks of the technology and the significant workforce transitions it may cause. Stakeholders must also determine the new skills and capabilities needed in the workforce and rethink core business processes for retraining. Balancing the potential benefits with these challenges is crucial for successful implementation.\n",
      "Answers: ['The estimated economic impact of generative AI on the global economy is projected to be between $2.6 trillion and $4.4 trillion annually. This represents an increase of 15 to 40 percent in the overall impact of artificial intelligence. The potential impact could roughly double when considering its integration into existing software used for other tasks.', 'The business functions that could see the most value from generative AI are customer operations, marketing and sales, software engineering, and research and development. These areas are estimated to account for approximately 75 percent of the total annual value generated by AI use cases. Generative AI can enhance interactions, create marketing content, and assist in software development among other applications.', \"Generative AI is expected to significantly change the future of work by automating 60 to 70 percent of tasks that currently consume employees' time. Its enhanced ability to understand natural language will particularly benefit knowledge workers in high-wage occupations. Overall, this will augment individual capabilities and transform work activities, especially in knowledge-intensive roles.\", 'The projected timeline for automating work activities due to generative AI ranges from 2030 to 2060, with a midpoint estimate around 2045. This represents a significant acceleration compared to earlier estimates. The automation impact will primarily affect higher-education occupations with higher wages.', 'The key challenges associated with the adoption of generative AI include managing the inherent risks of the technology and the significant workforce transitions it may cause. Stakeholders must also determine the new skills and capabilities needed in the workforce and rethink core business processes for retraining. Balancing the potential benefits with these challenges is crucial for successful implementation.']\n",
      "{'question': ['What is the estimated economic impact of generative AI on the global economy?', 'Which business functions could see the most value from generative AI?', 'How will generative AI affect the future of work?', 'What is the projected timeline for the automation of work activities due to generative AI?', 'What are the key challenges associated with the adoption of generative AI?'], 'answer': ['The estimated economic impact of generative AI on the global economy is projected to be between $2.6 trillion and $4.4 trillion annually. This represents an increase of 15 to 40 percent in the overall impact of artificial intelligence. The potential impact could roughly double when considering its integration into existing software used for other tasks.', 'The business functions that could see the most value from generative AI are customer operations, marketing and sales, software engineering, and research and development. These areas are estimated to account for approximately 75 percent of the total annual value generated by AI use cases. Generative AI can enhance interactions, create marketing content, and assist in software development among other applications.', \"Generative AI is expected to significantly change the future of work by automating 60 to 70 percent of tasks that currently consume employees' time. Its enhanced ability to understand natural language will particularly benefit knowledge workers in high-wage occupations. Overall, this will augment individual capabilities and transform work activities, especially in knowledge-intensive roles.\", 'The projected timeline for automating work activities due to generative AI ranges from 2030 to 2060, with a midpoint estimate around 2045. This represents a significant acceleration compared to earlier estimates. The automation impact will primarily affect higher-education occupations with higher wages.', 'The key challenges associated with the adoption of generative AI include managing the inherent risks of the technology and the significant workforce transitions it may cause. Stakeholders must also determine the new skills and capabilities needed in the workforce and rethink core business processes for retraining. Balancing the potential benefits with these challenges is crucial for successful implementation.'], 'contexts': [['1. Generative AI’s impact on productivity could add trillions of dollars in value to the global economy. Our latest research estimates that generative AI could add the equivalent of $2.6 trillion to $4.4 trillion annually across the 63 use cases we analyzed—by comparison, the United Kingdom’s entire GDP in 2021 was $3.1 trillion. This would increase the impact of all artificial intelligence by 15 to 40 percent. This estimate would roughly double if we include the impact of embedding generative AI into software that is currently used for other tasks beyond those use cases.', '1. Generative AI’s impact on productivity could add trillions of dollars in value to the global economy. Our latest research estimates that generative AI could add the equivalent of $2.6 trillion to $4.4 trillion annually across the 63 use cases we analyzed—by comparison, the United Kingdom’s entire GDP in 2021 was $3.1 trillion. This would increase the impact of all artificial intelligence by 15 to 40 percent. This estimate would roughly double if we include the impact of embedding generative AI into software that is currently used for other tasks beyond those use cases.', '3. Generative AI will have a significant impact across all industry sectors. Banking, high tech, and life sciences are among the industries that could see the biggest impact as a percentage of their revenues from generative AI. Across the banking industry, for example, the technology could deliver value equal to an additional $200 billion to $340 billion annually if the use cases were fully implemented. In retail and consumer packaged goods, the potential impact is also significant at $400 billion to $660 billion a year.', '3. Generative AI will have a significant impact across all industry sectors. Banking, high tech, and life sciences are among the industries that could see the biggest impact as a percentage of their revenues from generative AI. Across the banking industry, for example, the technology could deliver value equal to an additional $200 billion to $340 billion annually if the use cases were fully implemented. In retail and consumer packaged goods, the potential impact is also significant at $400 billion to $660 billion a year.'], ['2. About 75 percent of the value that generative AI use cases could deliver falls across four areas: Customer operations, marketing and sales, software engineering, and R&D. Across 16 business functions, we examined 63 use cases in which the technology can address specific business challenges in ways that produce one or more measurable outcomes. Examples include generative AI’s ability to support interactions with customers, generate creative content for marketing and sales, and draft computer code based on natural-language prompts, among many other tasks.', '2. About 75 percent of the value that generative AI use cases could deliver falls across four areas: Customer operations, marketing and sales, software engineering, and R&D. Across 16 business functions, we examined 63 use cases in which the technology can address specific business challenges in ways that produce one or more measurable outcomes. Examples include generative AI’s ability to support interactions with customers, generate creative content for marketing and sales, and draft computer code based on natural-language prompts, among many other tasks.', 'Our estimates are based on the structure of the global economy in 2022 and do not consider the value generative AI could create if it produced entirely new product or service categories.\\n\\n1 “Notes from the AI frontier: Applications and value of deep learning,” McKinsey Global Institute, April 17, 2018.\\n\\nIn this chapter, we highlight the value potential of generative AI across two dimensions: business function and modality.\\n\\n# The economic potential of generative AI: The next productivity frontier\\n\\n# Value potential by function\\n\\nWhile generative AI could have an impact on most business functions, a few stand out when measured by the technology’s impact as a share of functional cost (Exhibit 3). Our analysis of 16 business functions identified just four—customer operations, marketing and sales, software engineering, and research and development—that could account for approximately 75 percent of the total annual value from generative AI use cases.\\n\\n# Exhibit 3', 'Our estimates are based on the structure of the global economy in 2022 and do not consider the value generative AI could create if it produced entirely new product or service categories.\\n\\n1 “Notes from the AI frontier: Applications and value of deep learning,” McKinsey Global Institute, April 17, 2018.\\n\\nIn this chapter, we highlight the value potential of generative AI across two dimensions: business function and modality.\\n\\n# The economic potential of generative AI: The next productivity frontier\\n\\n# Value potential by function\\n\\nWhile generative AI could have an impact on most business functions, a few stand out when measured by the technology’s impact as a share of functional cost (Exhibit 3). Our analysis of 16 business functions identified just four—customer operations, marketing and sales, software engineering, and research and development—that could account for approximately 75 percent of the total annual value from generative AI use cases.\\n\\n# Exhibit 3'], ['4. Generative AI has the potential to change the anatomy of work, augmenting the capabilities of individual workers by automating some of their individual activities. Current generative AI and other technologies have the potential to automate work activities that absorb 60 to 70 percent of employees’ time today. In contrast, we previously estimated that technology has the potential to automate half of the time employees spend working. The acceleration in the potential for technical automation is largely due to generative AI’s increased ability to understand natural language, which is required for work activities that account for 25 percent of total work time. Thus, generative AI has more impact on knowledge work associated with occupations that have higher wages and educational requirements than on other types of work.', '4. Generative AI has the potential to change the anatomy of work, augmenting the capabilities of individual workers by automating some of their individual activities. Current generative AI and other technologies have the potential to automate work activities that absorb 60 to 70 percent of employees’ time today. In contrast, we previously estimated that technology has the potential to automate half of the time employees spend working. The acceleration in the potential for technical automation is largely due to generative AI’s increased ability to understand natural language, which is required for work activities that account for 25 percent of total work time. Thus, generative AI has more impact on knowledge work associated with occupations that have higher wages and educational requirements than on other types of work.', '# The generative AI future of work: Impacts on work activities, economic growth, and productivity\\n\\nTechnology has been changing the anatomy of work for decades. Over the years, machines have given human workers various “superpowers”; for instance, industrial-age machines enabled workers to accomplish physical tasks beyond the capabilities of their own bodies. More recently, computers have enabled knowledge workers to perform calculations that would have taken years to do manually.', '# The generative AI future of work: Impacts on work activities, economic growth, and productivity\\n\\nTechnology has been changing the anatomy of work for decades. Over the years, machines have given human workers various “superpowers”; for instance, industrial-age machines enabled workers to accomplish physical tasks beyond the capabilities of their own bodies. More recently, computers have enabled knowledge workers to perform calculations that would have taken years to do manually.'], ['- The capabilities of generative AI have increased the share of time spent on work activities that theoretically could be automated by adapting technologies available in 2023 from about half to two-thirds of all working time.\\n- The pace of adoption is likely to accelerate, with estimates that half of today’s work activities could be automated in scenarios that range from 2030 to 2060, with a midpoint in 2045—or roughly a decade earlier than the midpoint estimate produced by our 2017 scenarios.\\n- Experts’ assessment shows much of this acceleration in the potential for technical automation is due to generative AI’s increased natural language capabilities.\\n- Unlike most automation in the past, the impact of generative AI will fall most heavily on occupations requiring higher levels of education and commanding higher wages.', '- The capabilities of generative AI have increased the share of time spent on work activities that theoretically could be automated by adapting technologies available in 2023 from about half to two-thirds of all working time.\\n- The pace of adoption is likely to accelerate, with estimates that half of today’s work activities could be automated in scenarios that range from 2030 to 2060, with a midpoint in 2045—or roughly a decade earlier than the midpoint estimate produced by our 2017 scenarios.\\n- Experts’ assessment shows much of this acceleration in the potential for technical automation is due to generative AI’s increased natural language capabilities.\\n- Unlike most automation in the past, the impact of generative AI will fall most heavily on occupations requiring higher levels of education and commanding higher wages.', '# Technical feasibility\\n\\nFor a detailed work activity to be automated, technology must exist that performs at the required level for each of the 18 capabilities. To update the progression scenarios for the performance capabilities over time, we surveyed experts in generative AI. We also conducted interviews with industry leaders and academic experts. Based on these assessments, we updated the expected time frames to reach each level of performance for each capability. In our analysis and interaction with experts, we focused on the following capabilities that could be affected by generative AI:\\n\\n- Natural-language understanding\\n- Natural-language generation\\n- Social and emotional reasoning\\n- Emotional and social output\\n- Social and emotional sensing\\n- Coordination with multiple agents\\n- Generating novel patterns or categories\\n- Creativity\\n\\n5 Jobs lost, jobs gained: What the future of work will mean for jobs, skills, and wages, McKinsey Global Institute, November 28, 2017.', '# Technical feasibility\\n\\nFor a detailed work activity to be automated, technology must exist that performs at the required level for each of the 18 capabilities. To update the progression scenarios for the performance capabilities over time, we surveyed experts in generative AI. We also conducted interviews with industry leaders and academic experts. Based on these assessments, we updated the expected time frames to reach each level of performance for each capability. In our analysis and interaction with experts, we focused on the following capabilities that could be affected by generative AI:\\n\\n- Natural-language understanding\\n- Natural-language generation\\n- Social and emotional reasoning\\n- Emotional and social output\\n- Social and emotional sensing\\n- Coordination with multiple agents\\n- Generating novel patterns or categories\\n- Creativity\\n\\n5 Jobs lost, jobs gained: What the future of work will mean for jobs, skills, and wages, McKinsey Global Institute, November 28, 2017.'], ['# The economic potential of generative AI: The next productivity frontier\\n\\nThere are economic challenges too: the scale and the scope of the workforce transitions described in this report are considerable. In the midpoint adoption scenario, about a quarter to a third of work activities could change in the coming decade. The task before us is to manage the potential positives and negatives of the technology simultaneously (for more about the potential risks of generative AI, see Box 5). Here are some of the critical questions we will need to address while balancing our enthusiasm for the potential benefits of the technology with the new challenges it can introduce.\\n\\n# Box 5\\n\\n# Using generative AI responsibly\\n\\nGenerative AI poses a variety of risks. Stakeholders will want to address these risks from the start.', '# The economic potential of generative AI: The next productivity frontier\\n\\nThere are economic challenges too: the scale and the scope of the workforce transitions described in this report are considerable. In the midpoint adoption scenario, about a quarter to a third of work activities could change in the coming decade. The task before us is to manage the potential positives and negatives of the technology simultaneously (for more about the potential risks of generative AI, see Box 5). Here are some of the critical questions we will need to address while balancing our enthusiasm for the potential benefits of the technology with the new challenges it can introduce.\\n\\n# Box 5\\n\\n# Using generative AI responsibly\\n\\nGenerative AI poses a variety of risks. Stakeholders will want to address these risks from the start.', '7. The era of generative AI is just beginning. Excitement over this technology is palpable, and early pilots are compelling. But a full realization of the technology’s benefits will take time, and leaders in business and society still have considerable challenges to address. These include managing the risks inherent in generative AI, determining what new skills and capabilities the workforce will need, and rethinking core business processes such as retraining and developing new skills.', '7. The era of generative AI is just beginning. Excitement over this technology is palpable, and early pilots are compelling. But a full realization of the technology’s benefits will take time, and leaders in business and society still have considerable challenges to address. These include managing the risks inherent in generative AI, determining what new skills and capabilities the workforce will need, and rethinking core business processes such as retraining and developing new skills.']], 'ground_truths': ['Generative AI could add the equivalent of $2.6 trillion to $4.4 trillion annually across the 63 use cases analyzed.', 'About 75 percent of the value that generative AI use cases could deliver falls across four areas: Customer operations, marketing and sales, software engineering, and R&D.', 'Generative AI has the potential to change the anatomy of work, augmenting the capabilities of individual workers by automating some of their individual activities.', 'Estimates suggest that half of today’s work activities could be automated between 2030 and 2060, with a midpoint in 2045.', 'Challenges include managing the risks inherent in generative AI, determining what new skills and capabilities the workforce will need, and rethinking core business processes such as retraining and developing new skills.']}\n"
     ]
    }
   ],
   "source": [
    "from datasets import Dataset\n",
    "\n",
    "# Clear previous results\n",
    "answers.clear()\n",
    "contexts.clear()\n",
    "\n",
    "# Inference\n",
    "for query in questions:\n",
    "    answer = rag_chain.invoke(query)\n",
    "    print(answer)\n",
    "    context = [doc.page_content for doc in retriever.get_relevant_documents(query)]\n",
    "    answers.append(answer)\n",
    "    contexts.append(context)\n",
    "\n",
    "print(\"Answers:\", answers)\n",
    "# Prepare data\n",
    "data = {\n",
    "    \"question\": questions,\n",
    "    \"answer\": answers,\n",
    "    \"contexts\": contexts,\n",
    "    \"ground_truths\": ground_truths\n",
    "}\n",
    "\n",
    "print(data)\n",
    "\n",
    "# Convert to dataset\n",
    "dataset = Dataset.from_dict(data)"
   ]
  },
  {
   "cell_type": "markdown",
   "metadata": {},
   "source": [
    "Evaluation "
   ]
  },
  {
   "cell_type": "code",
   "execution_count": 25,
   "metadata": {},
   "outputs": [
    {
     "name": "stderr",
     "output_type": "stream",
     "text": [
      "Evaluating: 100%|██████████| 10/10 [00:14<00:00,  1.40s/it]\n"
     ]
    }
   ],
   "source": [
    "from ragas import evaluate\n",
    "from ragas.metrics import (\n",
    "    faithfulness,\n",
    "    answer_relevancy,\n",
    "    context_recall,\n",
    "    context_precision,\n",
    ")\n",
    "\n",
    "result = evaluate(\n",
    "    dataset = dataset, \n",
    "    metrics=[\n",
    "        faithfulness,\n",
    "        answer_relevancy,\n",
    "    ],\n",
    ")\n",
    "\n",
    "df = result.to_pandas()"
   ]
  },
  {
   "cell_type": "markdown",
   "metadata": {},
   "source": [
    "# Results"
   ]
  },
  {
   "cell_type": "code",
   "execution_count": 32,
   "metadata": {},
   "outputs": [
    {
     "data": {
      "text/html": [
       "<div>\n",
       "<style scoped>\n",
       "    .dataframe tbody tr th:only-of-type {\n",
       "        vertical-align: middle;\n",
       "    }\n",
       "\n",
       "    .dataframe tbody tr th {\n",
       "        vertical-align: top;\n",
       "    }\n",
       "\n",
       "    .dataframe thead th {\n",
       "        text-align: right;\n",
       "    }\n",
       "</style>\n",
       "<table border=\"1\" class=\"dataframe\">\n",
       "  <thead>\n",
       "    <tr style=\"text-align: right;\">\n",
       "      <th></th>\n",
       "      <th>user_input</th>\n",
       "      <th>retrieved_contexts</th>\n",
       "      <th>response</th>\n",
       "      <th>faithfulness</th>\n",
       "      <th>answer_relevancy</th>\n",
       "    </tr>\n",
       "  </thead>\n",
       "  <tbody>\n",
       "    <tr>\n",
       "      <th>0</th>\n",
       "      <td>What is the estimated economic impact of gener...</td>\n",
       "      <td>[1. Generative AI’s impact on productivity cou...</td>\n",
       "      <td>The estimated economic impact of generative AI...</td>\n",
       "      <td>1.0</td>\n",
       "      <td>1.000000</td>\n",
       "    </tr>\n",
       "    <tr>\n",
       "      <th>1</th>\n",
       "      <td>Which business functions could see the most va...</td>\n",
       "      <td>[2. About 75 percent of the value that generat...</td>\n",
       "      <td>The business functions that could see the most...</td>\n",
       "      <td>1.0</td>\n",
       "      <td>0.981748</td>\n",
       "    </tr>\n",
       "    <tr>\n",
       "      <th>2</th>\n",
       "      <td>How will generative AI affect the future of work?</td>\n",
       "      <td>[4. Generative AI has the potential to change ...</td>\n",
       "      <td>Generative AI is expected to significantly cha...</td>\n",
       "      <td>1.0</td>\n",
       "      <td>0.977863</td>\n",
       "    </tr>\n",
       "    <tr>\n",
       "      <th>3</th>\n",
       "      <td>What is the projected timeline for the automat...</td>\n",
       "      <td>[- The capabilities of generative AI have incr...</td>\n",
       "      <td>The projected timeline for automating work act...</td>\n",
       "      <td>1.0</td>\n",
       "      <td>0.996527</td>\n",
       "    </tr>\n",
       "    <tr>\n",
       "      <th>4</th>\n",
       "      <td>What are the key challenges associated with th...</td>\n",
       "      <td>[# The economic potential of generative AI: Th...</td>\n",
       "      <td>The key challenges associated with the adoptio...</td>\n",
       "      <td>1.0</td>\n",
       "      <td>1.000000</td>\n",
       "    </tr>\n",
       "  </tbody>\n",
       "</table>\n",
       "</div>"
      ],
      "text/plain": [
       "                                          user_input  \\\n",
       "0  What is the estimated economic impact of gener...   \n",
       "1  Which business functions could see the most va...   \n",
       "2  How will generative AI affect the future of work?   \n",
       "3  What is the projected timeline for the automat...   \n",
       "4  What are the key challenges associated with th...   \n",
       "\n",
       "                                  retrieved_contexts  \\\n",
       "0  [1. Generative AI’s impact on productivity cou...   \n",
       "1  [2. About 75 percent of the value that generat...   \n",
       "2  [4. Generative AI has the potential to change ...   \n",
       "3  [- The capabilities of generative AI have incr...   \n",
       "4  [# The economic potential of generative AI: Th...   \n",
       "\n",
       "                                            response  faithfulness  \\\n",
       "0  The estimated economic impact of generative AI...           1.0   \n",
       "1  The business functions that could see the most...           1.0   \n",
       "2  Generative AI is expected to significantly cha...           1.0   \n",
       "3  The projected timeline for automating work act...           1.0   \n",
       "4  The key challenges associated with the adoptio...           1.0   \n",
       "\n",
       "   answer_relevancy  \n",
       "0          1.000000  \n",
       "1          0.981748  \n",
       "2          0.977863  \n",
       "3          0.996527  \n",
       "4          1.000000  "
      ]
     },
     "execution_count": 32,
     "metadata": {},
     "output_type": "execute_result"
    }
   ],
   "source": [
    "df"
   ]
  }
 ],
 "metadata": {
  "kernelspec": {
   "display_name": "Python 3",
   "language": "python",
   "name": "python3"
  },
  "language_info": {
   "codemirror_mode": {
    "name": "ipython",
    "version": 3
   },
   "file_extension": ".py",
   "mimetype": "text/x-python",
   "name": "python",
   "nbconvert_exporter": "python",
   "pygments_lexer": "ipython3",
   "version": "3.13.0"
  }
 },
 "nbformat": 4,
 "nbformat_minor": 2
}

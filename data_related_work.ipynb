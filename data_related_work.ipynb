{
 "cells": [
  {
   "cell_type": "markdown",
   "metadata": {},
   "source": [
    "Generate evaluation triplets from studies \n",
    "\n",
    "\n",
    "1. parse document \n",
    "2. extract claims that are accosiated with refereces via LLM and save in json with referenced paper as name\n",
    "3. generate topic of claim like (sustanability, business, money, or something like that)\n",
    "4. repeat step 1-3 for multiple reports from diverse topics that care be releated tho like (genai, sustability, business report)\n",
    "5. bundle 2-3 claims together from multiple related documents into one claim via LLM\n",
    "6. generate question for bundled claim \n",
    "7. store question, claim and added references in json objects\n",
    "8. repeat step 6 and 7\n",
    "\n",
    "\n"
   ]
  },
  {
   "cell_type": "code",
   "execution_count": 9,
   "metadata": {},
   "outputs": [],
   "source": [
    "\n",
    "from langchain_openai import ChatOpenAI\n",
    "from langchain.prompts import PromptTemplate\n",
    "from langchain_core.output_parsers import PydanticOutputParser\n",
    "from pydantic import BaseModel, Field\n",
    "from langchain.schema import Document\n",
    "import os\n",
    "import json\n",
    "from typing import List, Dict, Any\n",
    "\n",
    "class Response(BaseModel):\n",
    "    question: str = Field(description=\"Question\")\n",
    "    ground_truth: str = Field(description=\"Ground Truth\")\n",
    "    context: str = Field(description=\"Context\")\n",
    "    source: str = Field(description=\"List of document names used\")\n",
    "\n",
    "class Responses(BaseModel):\n",
    "    responses: list[Response] = Field(description=\"List of responses\")"
   ]
  },
  {
   "cell_type": "code",
   "execution_count": null,
   "metadata": {},
   "outputs": [],
   "source": [
    "\n",
    "from gen_ai_hub.proxy.langchain.openai import ChatOpenAI\n",
    "from gen_ai_hub.proxy.core.proxy_clients import get_proxy_client\n",
    "\n",
    "proxy_client = get_proxy_client('gen-ai-hub')\n",
    "llm = ChatOpenAI(proxy_model_name='gpt-4o', proxy_client=proxy_client)\n",
    "\n",
    "INPUT_DIR = \"input/\"\n",
    "OUTPUT_FILE = \"evaluation_references.json\"\n",
    "\n",
    "\n"
   ]
  },
  {
   "cell_type": "markdown",
   "metadata": {},
   "source": [
    "## Load Documents"
   ]
  },
  {
   "cell_type": "code",
   "execution_count": null,
   "metadata": {},
   "outputs": [],
   "source": [
    "documents = []\n",
    "for file in os.listdir(INPUT_DIR):\n",
    "    if file.endswith(\".md\"):\n",
    "        file_path = os.path.join(INPUT_DIR, file)\n",
    "        with open(file_path, \"r\", encoding=\"utf-8\") as f:\n",
    "            content = f.read()\n",
    "            documents.append(Document(page_content=content, metadata={\"source\": file}))\n"
   ]
  },
  {
   "cell_type": "markdown",
   "metadata": {},
   "source": [
    "## Extract claims with references using an LLM chain"
   ]
  },
  {
   "cell_type": "code",
   "execution_count": 24,
   "metadata": {},
   "outputs": [
    {
     "name": "stderr",
     "output_type": "stream",
     "text": [
      "e:\\Repositories\\graphrag-businessqa-evaluation\\env\\Lib\\site-packages\\pydantic\\json_schema.py:2191: PydanticJsonSchemaWarning: Default value (FieldInfo(annotation=NoneType, required=True, description='Claim'),) is not JSON serializable; excluding default from JSON schema [non-serializable-default]\n",
      "  warnings.warn(message, PydanticJsonSchemaWarning)\n"
     ]
    }
   ],
   "source": [
    "import os\n",
    "import json\n",
    "\n",
    "from langchain.prompts import PromptTemplate\n",
    "from langchain.docstore.document import Document\n",
    "\n",
    "\n",
    "class Response(BaseModel):\n",
    "    claim: str = Field(description=\"Claim\"),\n",
    "    references: List[str] = Field(description=\"List of references\")\n",
    "\n",
    "class Responses(BaseModel):\n",
    "    responses: list[Response] = Field(description=\"List of responses\")\n",
    "\n",
    "parser = PydanticOutputParser(pydantic_object=Responses)\n",
    "\n",
    "extract_prompt = PromptTemplate(\n",
    "    input_variables=[\"text\"],\n",
    "    partial_variables={\"format_output\": parser.get_format_instructions()},\n",
    "    template=\"\"\"You are a helpful assistant that identifies academic claims and their citations.\n",
    "\n",
    "Given the following text:\n",
    "\n",
    "{text}\n",
    "\n",
    "Extract all claims and their inline citations. A claim is a statement or sentence that is supported by one or more inline citations (e.g. \"(Author et al., YEAR)\"). \n",
    "\n",
    "The output MUST strictly adhere to the following JSON format, and NO other text MUST be included:    \n",
    "{format_output}\n",
    "\n",
    "\"\"\", \n",
    ")\n",
    "\n",
    "extract_chain = extract_prompt | llm | parser\n",
    "\n",
    "claims = []\n",
    "for doc in documents:\n",
    "    response = extract_chain.invoke({\"text\": doc.page_content})\n",
    "    for res in response.responses:\n",
    "        claim_dict = res.dict()\n",
    "        claim_dict[\"doc_source\"] = doc.metadata[\"source\"]\n",
    "        claims.append(claim_dict)\n",
    "\n",
    "\n"
   ]
  },
  {
   "cell_type": "code",
   "execution_count": 25,
   "metadata": {},
   "outputs": [
    {
     "name": "stdout",
     "output_type": "stream",
     "text": [
      "[{'claim': \"The breadth of SAP's portfolio is unmatched, covering 12 Lines of Businesses.\", 'references': ['Corporate factsheet (LINK) as of January 27, 2024'], 'doc_source': '2024-02_SAP Product Strategy.md'}, {'claim': 'SAP has more than 25k Customer agreements allowing it to use customer data sets to train AI models & build products.', 'references': ['Corporate factsheet (LINK) as of January 27, 2024'], 'doc_source': '2024-02_SAP Product Strategy.md'}, {'claim': \"SAP's experience is unmatched with more than 50 years of in-depth process knowledge, covering 26 Industries in packaged solutions.\", 'references': ['Corporate factsheet (LINK) as of January 27, 2024'], 'doc_source': '2024-02_SAP Product Strategy.md'}, {'claim': '99 of the 100 largest companies in the world are SAP customers.', 'references': ['Corporate factsheet (LINK) as of January 27, 2024'], 'doc_source': '2024-02_SAP Product Strategy.md'}, {'claim': 'SAP has more than 24k partner companies globally.', 'references': ['Corporate factsheet (LINK) as of January 27, 2024'], 'doc_source': '2024-02_SAP Product Strategy.md'}, {'claim': 'SAP has an 80% Employee Engagement rate.', 'references': ['Corporate factsheet (LINK) as of January 27, 2024'], 'doc_source': '2024-02_SAP Product Strategy.md'}, {'claim': 'SAP Business AI is built on leading ethics and data privacy standards.', 'references': ['Leading ethics¹'], 'doc_source': '2024-02_SAP Product Strategy.md'}, {'claim': 'SAP offers 600+ versions of SAP products, serving 200M+ users in 120+ countries.', 'references': ['Review appendix for details – Suite Qualities (LINK), 9 Cloud Qualities (LINK)'], 'doc_source': '2024-02_SAP Product Strategy.md'}, {'claim': 'Low code is 25% faster on average than traditional code-based development.', 'references': ['IDC Info Brief (LINK)'], 'doc_source': '2024-02_SAP Product Strategy.md'}, {'claim': 'Using Signavio Process AI can result in up to 27% faster transformation.', 'references': ['Conservative assumptions based on 50+ years of SAP transformation projects.'], 'doc_source': '2024-02_SAP Product Strategy.md'}, {'claim': 'More than 732 million transactions were handled through SAP Business Network in a 12-month period.', 'references': [], 'doc_source': '2024-02_SAP Product Strategy.md'}, {'claim': '70% of EBITDA could be at stake from sustainability challenges.', 'references': [], 'doc_source': '2024-02_SAP Product Strategy.md'}, {'claim': \"Joule, SAP's digital assistant, can result in a 14% productivity increase on average by using a generative AI co-pilot.\", 'references': [], 'doc_source': '2024-02_SAP Product Strategy.md'}]\n"
     ]
    }
   ],
   "source": [
    "print(claims)"
   ]
  },
  {
   "cell_type": "markdown",
   "metadata": {},
   "source": [
    "## Categorize the claims "
   ]
  },
  {
   "cell_type": "code",
   "execution_count": 27,
   "metadata": {},
   "outputs": [
    {
     "name": "stdout",
     "output_type": "stream",
     "text": [
      "Final Claims with Categories:\n",
      "[{'claim': \"The breadth of SAP's portfolio is unmatched, covering 12 Lines of Businesses.\", 'references': ['Corporate factsheet (LINK) as of January 27, 2024'], 'doc_source': '2024-02_SAP Product Strategy.md', 'category': 'Business'}, {'claim': 'SAP has more than 25k Customer agreements allowing it to use customer data sets to train AI models & build products.', 'references': ['Corporate factsheet (LINK) as of January 27, 2024'], 'doc_source': '2024-02_SAP Product Strategy.md', 'category': 'Technology'}, {'claim': \"SAP's experience is unmatched with more than 50 years of in-depth process knowledge, covering 26 Industries in packaged solutions.\", 'references': ['Corporate factsheet (LINK) as of January 27, 2024'], 'doc_source': '2024-02_SAP Product Strategy.md', 'category': 'Business'}, {'claim': '99 of the 100 largest companies in the world are SAP customers.', 'references': ['Corporate factsheet (LINK) as of January 27, 2024'], 'doc_source': '2024-02_SAP Product Strategy.md', 'category': 'Business'}, {'claim': 'SAP has more than 24k partner companies globally.', 'references': ['Corporate factsheet (LINK) as of January 27, 2024'], 'doc_source': '2024-02_SAP Product Strategy.md', 'category': 'Business'}, {'claim': 'SAP has an 80% Employee Engagement rate.', 'references': ['Corporate factsheet (LINK) as of January 27, 2024'], 'doc_source': '2024-02_SAP Product Strategy.md', 'category': 'Business'}, {'claim': 'SAP Business AI is built on leading ethics and data privacy standards.', 'references': ['Leading ethics¹'], 'doc_source': '2024-02_SAP Product Strategy.md', 'category': 'Technology'}, {'claim': 'SAP offers 600+ versions of SAP products, serving 200M+ users in 120+ countries.', 'references': ['Review appendix for details – Suite Qualities (LINK), 9 Cloud Qualities (LINK)'], 'doc_source': '2024-02_SAP Product Strategy.md', 'category': 'Business'}, {'claim': 'Low code is 25% faster on average than traditional code-based development.', 'references': ['IDC Info Brief (LINK)'], 'doc_source': '2024-02_SAP Product Strategy.md', 'category': 'Technology'}, {'claim': 'Using Signavio Process AI can result in up to 27% faster transformation.', 'references': ['Conservative assumptions based on 50+ years of SAP transformation projects.'], 'doc_source': '2024-02_SAP Product Strategy.md', 'category': 'Technology'}, {'claim': 'More than 732 million transactions were handled through SAP Business Network in a 12-month period.', 'references': [], 'doc_source': '2024-02_SAP Product Strategy.md', 'category': 'Business'}, {'claim': '70% of EBITDA could be at stake from sustainability challenges.', 'references': [], 'doc_source': '2024-02_SAP Product Strategy.md', 'category': 'Sustainability'}, {'claim': \"Joule, SAP's digital assistant, can result in a 14% productivity increase on average by using a generative AI co-pilot.\", 'references': [], 'doc_source': '2024-02_SAP Product Strategy.md', 'category': 'Technology'}]\n",
      "All Discovered Categories:\n",
      "['Business', 'Technology', 'Sustainability']\n"
     ]
    }
   ],
   "source": [
    "from typing import List\n",
    "from pydantic import BaseModel, Field\n",
    "from langchain.prompts import PromptTemplate\n",
    "from langchain.output_parsers import PydanticOutputParser\n",
    "\n",
    "class CategoryResponse(BaseModel):\n",
    "    category: str = Field(description=\"The category of the given claim\")\n",
    "\n",
    "parser = PydanticOutputParser(pydantic_object=CategoryResponse)\n",
    "\n",
    "extract_prompt = PromptTemplate(\n",
    "    input_variables=[\"claim\", \"categories\"],\n",
    "    partial_variables={\"format_output\": parser.get_format_instructions()},\n",
    "    template=\"\"\"You have a list of existing categories:\n",
    "{categories}\n",
    "\n",
    "Please classify the following claim into one of these categories if it fits well. \n",
    "If it does not fit into any of the listed categories, create a new category name.\n",
    "Here are some examples for Categories you can use, or create new ones if you need to:\n",
    "\"Business\", \"Sustainability\", \"Technology\", \"Economics\", \"Policy\", \"Healthcare\", \"Innovation\", etc.\n",
    "Claim: {claim}\n",
    "\n",
    "Return only the final chosen or newly created category as a JSON object following the format instructions.\n",
    "\n",
    "{format_output}\n",
    "\"\"\"\n",
    ")\n",
    "\n",
    "extract_chain = extract_prompt | llm | parser\n",
    "\n",
    "categories = []\n",
    "final_claims = []\n",
    "for item in claims:\n",
    "    categories_str = \", \".join(categories) if categories else \"No categories yet.\"\n",
    "    response = extract_chain.invoke({\"claim\": item[\"claim\"], \"categories\": categories_str})\n",
    "    chosen_category = response.category.strip()\n",
    "    if chosen_category not in categories:\n",
    "        categories.append(chosen_category)\n",
    "\n",
    "    item['category'] = chosen_category\n",
    "    final_claims.append(item)\n",
    "\n",
    "print(\"Final Claims with Categories:\", final_claims)\n",
    "print(\"All Discovered Categories:\", categories)\n"
   ]
  },
  {
   "cell_type": "markdown",
   "metadata": {},
   "source": [
    "## Bundle and Merge Claims"
   ]
  },
  {
   "cell_type": "code",
   "execution_count": null,
   "metadata": {},
   "outputs": [
    {
     "name": "stdout",
     "output_type": "stream",
     "text": [
      "Merged Claims:\n",
      "{'original_claims': [{'claim': \"The breadth of SAP's portfolio is unmatched, covering 12 Lines of Businesses.\", 'references': ['Corporate factsheet (LINK) as of January 27, 2024'], 'doc_source': '2024-02_SAP Product Strategy.md', 'category': 'Business', 'id': 0}, {'claim': \"SAP's experience is unmatched with more than 50 years of in-depth process knowledge, covering 26 Industries in packaged solutions.\", 'references': ['Corporate factsheet (LINK) as of January 27, 2024'], 'doc_source': '2024-02_SAP Product Strategy.md', 'category': 'Business', 'id': 2}, {'claim': 'SAP has more than 25k Customer agreements allowing it to use customer data sets to train AI models & build products.', 'references': ['Corporate factsheet (LINK) as of January 27, 2024'], 'doc_source': '2024-02_SAP Product Strategy.md', 'category': 'Technology', 'id': 1}], 'merged_claim': \"SAP stands out with an unparalleled portfolio that spans 12 Lines of Businesses, demonstrating its unmatched breadth and versatility. With over 50 years of in-depth process knowledge, SAP offers comprehensive packaged solutions across 26 Industries, showcasing its extensive experience and expertise. Furthermore, SAP's access to over 25,000 customer agreements grants it unique opportunities to utilize customer data sets for training AI models and developing innovative products, solidifying its leadership in the industry.\", 'category': 'Business', 'merged_references': ['Corporate factsheet (LINK) as of January 27, 2024']}\n",
      "{'original_claims': [{'claim': 'SAP has more than 24k partner companies globally.', 'references': ['Corporate factsheet (LINK) as of January 27, 2024'], 'doc_source': '2024-02_SAP Product Strategy.md', 'category': 'Business', 'id': 4}, {'claim': 'SAP has an 80% Employee Engagement rate.', 'references': ['Corporate factsheet (LINK) as of January 27, 2024'], 'doc_source': '2024-02_SAP Product Strategy.md', 'category': 'Business', 'id': 5}, {'claim': 'SAP Business AI is built on leading ethics and data privacy standards.', 'references': ['Leading ethics¹'], 'doc_source': '2024-02_SAP Product Strategy.md', 'category': 'Technology', 'id': 6}], 'merged_claim': 'SAP demonstrates its global influence and commitment to excellence with a network of over 24,000 partner companies worldwide, an impressive 80% employee engagement rate, and the development of SAP Business AI, which is grounded in leading ethics and data privacy standards.', 'category': 'Business', 'merged_references': ['Leading ethics¹', 'Corporate factsheet (LINK) as of January 27, 2024']}\n",
      "{'original_claims': [{'claim': 'More than 732 million transactions were handled through SAP Business Network in a 12-month period.', 'references': [], 'doc_source': '2024-02_SAP Product Strategy.md', 'category': 'Business', 'id': 10}, {'claim': 'Low code is 25% faster on average than traditional code-based development.', 'references': ['IDC Info Brief (LINK)'], 'doc_source': '2024-02_SAP Product Strategy.md', 'category': 'Technology', 'id': 8}], 'merged_claim': 'In a significant demonstration of efficiency and technological advancement, SAP Business Network processed over 732 million transactions within a year, showcasing its robust capacity for handling large-scale operations. This remarkable feat is further enhanced by the integration of low-code development platforms, which accelerate the development process by an average of 25% compared to traditional code-based methods. Together, these innovations highlight a transformative shift in business technology, where increased transaction handling capability and expedited development processes converge to optimize performance and agility in the digital landscape.', 'category': 'Business', 'merged_references': ['IDC Info Brief (LINK)']}\n",
      "{'original_claims': [{'claim': 'SAP has more than 25k Customer agreements allowing it to use customer data sets to train AI models & build products.', 'references': ['Corporate factsheet (LINK) as of January 27, 2024'], 'doc_source': '2024-02_SAP Product Strategy.md', 'category': 'Technology', 'id': 1}, {'claim': 'SAP Business AI is built on leading ethics and data privacy standards.', 'references': ['Leading ethics¹'], 'doc_source': '2024-02_SAP Product Strategy.md', 'category': 'Technology', 'id': 6}, {'claim': '99 of the 100 largest companies in the world are SAP customers.', 'references': ['Corporate factsheet (LINK) as of January 27, 2024'], 'doc_source': '2024-02_SAP Product Strategy.md', 'category': 'Business', 'id': 3}], 'merged_claim': \"SAP, a leader in enterprise software, demonstrates its commitment to ethical AI and data privacy by developing SAP Business AI on robust standards, while leveraging an extensive network of over 25,000 customer agreements for AI model training and product development. Impressively, 99 of the 100 largest companies globally trust SAP, underscoring its pivotal role in shaping innovative and responsible AI-driven solutions for the world's most influential businesses.\", 'category': 'Technology', 'merged_references': ['Leading ethics¹', 'Corporate factsheet (LINK) as of January 27, 2024']}\n",
      "{'original_claims': [{'claim': 'Using Signavio Process AI can result in up to 27% faster transformation.', 'references': ['Conservative assumptions based on 50+ years of SAP transformation projects.'], 'doc_source': '2024-02_SAP Product Strategy.md', 'category': 'Technology', 'id': 9}, {'claim': \"Joule, SAP's digital assistant, can result in a 14% productivity increase on average by using a generative AI co-pilot.\", 'references': [], 'doc_source': '2024-02_SAP Product Strategy.md', 'category': 'Technology', 'id': 12}, {'claim': 'SAP offers 600+ versions of SAP products, serving 200M+ users in 120+ countries.', 'references': ['Review appendix for details – Suite Qualities (LINK), 9 Cloud Qualities (LINK)'], 'doc_source': '2024-02_SAP Product Strategy.md', 'category': 'Business', 'id': 7}], 'merged_claim': \"Harnessing the power of cutting-edge technology, SAP provides a comprehensive suite of over 600 product versions, serving a vast network of more than 200 million users across 120 countries. Within this ecosystem, Signavio Process AI plays a pivotal role by accelerating transformation processes by up to 27%. Additionally, SAP's digital assistant, Joule, enhances productivity by an average of 14% with its generative AI co-pilot capabilities, further empowering organizations to achieve operational excellence and drive innovation.\", 'category': 'Technology', 'merged_references': ['Review appendix for details – Suite Qualities (LINK), 9 Cloud Qualities (LINK)', 'Conservative assumptions based on 50+ years of SAP transformation projects.']}\n",
      "{'original_claims': [{'claim': '70% of EBITDA could be at stake from sustainability challenges.', 'references': [], 'doc_source': '2024-02_SAP Product Strategy.md', 'category': 'Sustainability', 'id': 11}], 'merged_claim': 'Addressing sustainability challenges is crucial for businesses, as a significant 70% of EBITDA could be at risk if these issues are not effectively managed. Sustainability concerns not only threaten financial performance but also impact long-term operational viability, necessitating proactive strategies to mitigate potential adverse effects.', 'category': 'Sustainability', 'merged_references': []}\n"
     ]
    }
   ],
   "source": [
    "from collections import defaultdict\n",
    "from langchain.prompts import PromptTemplate\n",
    "\n",
    "# Assign IDs to claims so we can store them in sets easily\n",
    "for idx, claim in enumerate(final_claims):\n",
    "    claim[\"id\"] = idx\n",
    "\n",
    "# Group claims by category\n",
    "claims_by_category = defaultdict(list)\n",
    "for c in final_claims:\n",
    "    claims_by_category[c[\"category\"]].append(c)\n",
    "\n",
    "# Flatten all claims for easy access\n",
    "all_claims = [c for cat_list in claims_by_category.values() for c in cat_list]\n",
    "\n",
    "merge_prompt = PromptTemplate(\n",
    "    input_variables=[\"claims_text\"],\n",
    "    template=\"\"\"You are a writing assistant.\n",
    "Merge the following claims into a single cohesive claim that captures all their key points:\n",
    "\n",
    "Claims:\n",
    "{claims_text}\n",
    "\n",
    "Return one paragraph unifying these claims.\n",
    "\"\"\")\n",
    "\n",
    "\n",
    "group_size = 3\n",
    "merged_claims = []\n",
    "\n",
    "def get_other_category_claim(current_category, used_claims):\n",
    "    # Find a claim not in the current category and not already used\n",
    "    for c in all_claims:\n",
    "        if c[\"category\"] != current_category and c[\"id\"] not in used_claims:\n",
    "            return c\n",
    "    return None\n",
    "\n",
    "used_claims = set()  \n",
    "\n",
    "for cat, cat_claims in claims_by_category.items():\n",
    "    # Process this category in chunks\n",
    "    for i in range(0, len(cat_claims), group_size):\n",
    "        group = cat_claims[i:i+group_size]\n",
    "\n",
    "        # Check diversity: if all are from the same category\n",
    "        if len(set(g[\"category\"] for g in group)) == 1:\n",
    "            # Try to add a claim from another category if we don't have full group_size yet\n",
    "            if len(group) < group_size:\n",
    "                other_claim = get_other_category_claim(cat, used_claims)\n",
    "                if other_claim is not None:\n",
    "                    group.append(other_claim)\n",
    "                    used_claims.add(other_claim[\"id\"])\n",
    "            else:\n",
    "                # If the group is already full\n",
    "                other_claim = get_other_category_claim(cat, used_claims)\n",
    "                if other_claim is not None:\n",
    "                    replaced = group.pop()  # remove one claim\n",
    "                    group.append(other_claim)\n",
    "                    # We do not add replaced again to used_claims since we removed it from the group\n",
    "                    used_claims.add(other_claim[\"id\"])\n",
    "\n",
    "        # Mark all claims in the final group as used by their IDs\n",
    "        for g in group:\n",
    "            used_claims.add(g[\"id\"])\n",
    "\n",
    "        # Prepare the text for merging\n",
    "        claims_text = \"\\n\".join([f\"- {g['claim']}\" for g in group])\n",
    "        merged_claim = (merge_prompt | llm).invoke({\"claims_text\": claims_text})\n",
    "\n",
    "        # Collect references from all grouped claims\n",
    "        all_refs = []\n",
    "        for g in group:\n",
    "            all_refs.extend(g.get(\"references\", []))\n",
    "\n",
    "        merged_claims.append({\n",
    "            \"original_claims\": group,\n",
    "            \"merged_claim\": merged_claim.content.strip(),\n",
    "            \"category\": cat,\n",
    "            \"merged_references\": list(set(all_refs))\n",
    "        })\n",
    "\n",
    "print(\"Merged Claims:\")\n",
    "for mc in merged_claims:\n",
    "    print(mc)\n"
   ]
  },
  {
   "cell_type": "code",
   "execution_count": null,
   "metadata": {},
   "outputs": [
    {
     "ename": "NameError",
     "evalue": "name 'PromptTemplate' is not defined",
     "output_type": "error",
     "traceback": [
      "\u001b[1;31m---------------------------------------------------------------------------\u001b[0m",
      "\u001b[1;31mNameError\u001b[0m                                 Traceback (most recent call last)",
      "Cell \u001b[1;32mIn[1], line 1\u001b[0m\n\u001b[1;32m----> 1\u001b[0m question_promt \u001b[38;5;241m=\u001b[39m \u001b[43mPromptTemplate\u001b[49m(\n\u001b[0;32m      2\u001b[0m     input_variables\u001b[38;5;241m=\u001b[39m[\u001b[38;5;124m\"\u001b[39m\u001b[38;5;124mmerged_claim\u001b[39m\u001b[38;5;124m\"\u001b[39m],\n\u001b[0;32m      3\u001b[0m     template\u001b[38;5;241m=\u001b[39m\n\u001b[0;32m      4\u001b[0m \u001b[38;5;250m    \u001b[39m\u001b[38;5;124;03m\"\"\"You have the following merged claim:\u001b[39;00m\n\u001b[0;32m      5\u001b[0m \u001b[38;5;124;03m    \"{merged_claim}\"\u001b[39;00m\n\u001b[0;32m      6\u001b[0m \u001b[38;5;124;03m    Generate a single question that, if answered, would naturally be resolved by this claim.\u001b[39;00m\n\u001b[0;32m      7\u001b[0m \u001b[38;5;124;03m    This question should be broad and global scoped in nature.\u001b[39;00m\n\u001b[0;32m      8\u001b[0m \u001b[38;5;124;03m    \"\"\"\u001b[39;00m\n\u001b[0;32m      9\u001b[0m )\n\u001b[0;32m     12\u001b[0m final_dataset \u001b[38;5;241m=\u001b[39m []\n\u001b[0;32m     14\u001b[0m \u001b[38;5;28;01mfor\u001b[39;00m mc \u001b[38;5;129;01min\u001b[39;00m merged_claims:\n",
      "\u001b[1;31mNameError\u001b[0m: name 'PromptTemplate' is not defined"
     ]
    }
   ],
   "source": [
    "\n",
    "question_promt = PromptTemplate(\n",
    "    input_variables=[\"merged_claim\"],\n",
    "    template=\n",
    "    \"\"\"You have the following merged claim:\n",
    "    \"{merged_claim}\"\n",
    "    Generate a single question that, if answered, would naturally be resolved by this claim.\n",
    "    This question should be broad and global scoped in nature.\n",
    "    \"\"\"\n",
    ")\n",
    "\n",
    "final_dataset = []\n",
    "\n",
    "for mc in merged_claims:\n",
    "    question_response = (question_promt | llm).invoke({\"merged_claim\": mc[\"merged_claim\"]})\n",
    "    question = question_response.content.strip()\n",
    "    \n",
    "    entry = {\n",
    "        \"question\": question,\n",
    "        \"ground_truth\": mc[\"merged_claim\"],\n",
    "        \"references\": mc[\"merged_references\"]\n",
    "    }\n",
    "    \n",
    "    final_dataset.append(entry)\n",
    "\n",
    "\n",
    "with open(OUTPUT_FILE, \"w\", encoding=\"utf-8\") as f:\n",
    "    json.dump(final_dataset, f, indent=4, ensure_ascii=False)\n",
    "\n",
    "\n",
    "for entry in final_dataset:\n",
    "    print(json.dumps(entry, indent=4, ensure_ascii=False))"
   ]
  }
 ],
 "metadata": {
  "kernelspec": {
   "display_name": "env",
   "language": "python",
   "name": "python3"
  },
  "language_info": {
   "codemirror_mode": {
    "name": "ipython",
    "version": 3
   },
   "file_extension": ".py",
   "mimetype": "text/x-python",
   "name": "python",
   "nbconvert_exporter": "python",
   "pygments_lexer": "ipython3",
   "version": "3.11.10"
  }
 },
 "nbformat": 4,
 "nbformat_minor": 2
}

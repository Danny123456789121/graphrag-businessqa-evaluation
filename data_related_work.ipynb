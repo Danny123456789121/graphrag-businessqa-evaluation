{
 "cells": [
  {
   "cell_type": "markdown",
   "metadata": {},
   "source": [
    "Generate evaluation triplets from studies \n",
    "\n",
    "\n",
    "1. parse document \n",
    "2. extract claims that are accosiated with refereces via LLM and save in json with referenced paper as name\n",
    "3. generate topic of claim like (sustanability, business, money, or something like that)\n",
    "4. repeat step 1-3 for multiple reports from diverse topics that care be releated tho like (genai, sustability, business report)\n",
    "5. bundle 2-3 claims together from multiple related documents into one claim via LLM\n",
    "6. generate question for bundled claim \n",
    "7. store question, claim and added references in json objects\n",
    "8. repeat step 6 and 7\n",
    "\n",
    "\n"
   ]
  },
  {
   "cell_type": "code",
   "execution_count": null,
   "metadata": {},
   "outputs": [
    {
     "ename": "ImportError",
     "evalue": "cannot import name 'PyPaperBot' from 'PyPaperBot' (e:\\Repositories\\graphrag-businessqa-evaluation\\env\\Lib\\site-packages\\PyPaperBot\\__init__.py)",
     "output_type": "error",
     "traceback": [
      "\u001b[1;31m---------------------------------------------------------------------------\u001b[0m",
      "\u001b[1;31mImportError\u001b[0m                               Traceback (most recent call last)",
      "Cell \u001b[1;32mIn[27], line 10\u001b[0m\n\u001b[0;32m      8\u001b[0m \u001b[38;5;28;01mfrom\u001b[39;00m \u001b[38;5;21;01mtyping\u001b[39;00m \u001b[38;5;28;01mimport\u001b[39;00m List, Dict, Any\n\u001b[0;32m      9\u001b[0m \u001b[38;5;28;01mfrom\u001b[39;00m \u001b[38;5;21;01mdoi2pdf\u001b[39;00m \u001b[38;5;28;01mimport\u001b[39;00m doi2pdf\n\u001b[1;32m---> 10\u001b[0m \u001b[38;5;28;01mfrom\u001b[39;00m \u001b[38;5;21;01mPyPaperBot\u001b[39;00m \u001b[38;5;28;01mimport\u001b[39;00m PyPaperBot\n",
      "\u001b[1;31mImportError\u001b[0m: cannot import name 'PyPaperBot' from 'PyPaperBot' (e:\\Repositories\\graphrag-businessqa-evaluation\\env\\Lib\\site-packages\\PyPaperBot\\__init__.py)"
     ]
    }
   ],
   "source": [
    "\n",
    "from langchain.prompts import PromptTemplate\n",
    "from langchain_core.output_parsers import PydanticOutputParser\n",
    "from pydantic import BaseModel, Field\n",
    "from langchain.schema import Document\n",
    "import os\n",
    "import json\n",
    "from typing import List, Dict, Any\n",
    "\n"
   ]
  },
  {
   "cell_type": "code",
   "execution_count": null,
   "metadata": {},
   "outputs": [],
   "source": [
    "\n",
    "from gen_ai_hub.proxy.langchain.openai import ChatOpenAI\n",
    "from gen_ai_hub.proxy.core.proxy_clients import get_proxy_client\n",
    "\n",
    "proxy_client = get_proxy_client('gen-ai-hub')\n",
    "llm = ChatOpenAI(proxy_model_name='gpt-4o', proxy_client=proxy_client)\n",
    "\n",
    "INPUT_DIR = \"reports/\"\n",
    "OUTPUT_FILE = \"evaluation_references.json\"\n",
    "\n",
    "\n"
   ]
  },
  {
   "cell_type": "markdown",
   "metadata": {},
   "source": [
    "## Load Documents"
   ]
  },
  {
   "cell_type": "code",
   "execution_count": 6,
   "metadata": {},
   "outputs": [],
   "source": [
    "documents = []\n",
    "for file in os.listdir(INPUT_DIR):\n",
    "    if file.endswith(\".md\"):\n",
    "        file_path = os.path.join(INPUT_DIR, file)\n",
    "        with open(file_path, \"r\", encoding=\"utf-8\") as f:\n",
    "            content = f.read()\n",
    "            documents.append(Document(page_content=content, metadata={\"source\": file}))\n"
   ]
  },
  {
   "cell_type": "markdown",
   "metadata": {},
   "source": [
    "## Extract claims with references using an LLM chain"
   ]
  },
  {
   "cell_type": "code",
   "execution_count": 7,
   "metadata": {},
   "outputs": [
    {
     "name": "stderr",
     "output_type": "stream",
     "text": [
      "e:\\Repositories\\graphrag-businessqa-evaluation\\env\\Lib\\site-packages\\pydantic\\json_schema.py:2191: PydanticJsonSchemaWarning: Default value (FieldInfo(annotation=NoneType, required=True, description='Claim'),) is not JSON serializable; excluding default from JSON schema [non-serializable-default]\n",
      "  warnings.warn(message, PydanticJsonSchemaWarning)\n"
     ]
    }
   ],
   "source": [
    "import os\n",
    "import json\n",
    "\n",
    "from langchain.prompts import PromptTemplate\n",
    "from langchain.docstore.document import Document\n",
    "\n",
    "\n",
    "class Response(BaseModel):\n",
    "    claim: str = Field(description=\"Claim\"),\n",
    "    references: List[str] = Field(description=\"List of references\")\n",
    "    dois: List[str] = Field(description=\"List of DOIs corresponding to each reference in the same order as references, or empty if not found\")\n",
    "\n",
    "class Responses(BaseModel):\n",
    "    responses: list[Response] = Field(description=\"List of responses\")\n",
    "\n",
    "parser = PydanticOutputParser(pydantic_object=Responses)\n",
    "\n",
    "extract_prompt = PromptTemplate(\n",
    "    input_variables=[\"text\"],\n",
    "    partial_variables={\"format_output\": parser.get_format_instructions()},\n",
    "    template=\"\"\"You are a knowledgeable assistant specializing in academic research analysis. Your task is to identify and extract **research-based claims** from the provided text. Additionally, you will match each inline citation in the claim to its corresponding entry in the references section and extract the DOI from that entry.\n",
    "\n",
    "**Definition of a Research-Based Claim:**\n",
    "- A statement that presents a finding, result, or implication derived from empirical studies.\n",
    "- Typically includes analysis, comparisons, or conclusions drawn from data.\n",
    "- Supported by one or more inline citations in the format \"(Author et al., YEAR)\".\n",
    "\n",
    "**Exclude the following from extraction:**\n",
    "- Definitions or historical accounts.\n",
    "- General statements without empirical support.\n",
    "- Descriptions of concepts without presenting findings.\n",
    "\n",
    "**Tasks:**\n",
    "1. Extract each research-based claim without its inline citations.\n",
    "2. For each claim, extract the list of inline citations that appear in that claim.\n",
    "3. For each inline citation (Author et al., YEAR), match it to the corresponding full reference in the references section (if available within the provided text).\n",
    "4. From the matched full reference, extract the DOI (if present).\n",
    "5. If no DOI is found for a given citation, return an empty string for that DOI.\n",
    "\n",
    "**Input:**\n",
    "{text}\n",
    "\n",
    "\n",
    "**The output MUST strictly adhere to the following JSON format and include only this JSON without any additional text:**\n",
    "{format_output}\n",
    "\"\"\", \n",
    ")\n",
    "\n",
    "extract_chain = extract_prompt | llm | parser\n",
    "\n",
    "claims = []\n",
    "for doc in documents:\n",
    "    response = extract_chain.invoke({\"text\": doc.page_content})\n",
    "    for res in response.responses:\n",
    "        claim_dict = res.dict()\n",
    "        claim_dict[\"doc_source\"] = doc.metadata[\"source\"]\n",
    "        claims.append(claim_dict)\n",
    "\n",
    "\n"
   ]
  },
  {
   "cell_type": "code",
   "execution_count": 39,
   "metadata": {},
   "outputs": [
    {
     "name": "stdout",
     "output_type": "stream",
     "text": [
      "[{'claim': 'Endiana et al. affirm that the accounting sector of a company can promote environmental conservation through environmental costs, and at the same time, improve performance when implementing a Corporate Sustainability Management System (CSMS). Mainly, Endiana et al. evidence that allocating appropriate environmental costs through CSMS can effectively improve the company’s financial performance. Besides, it is believed that a proper application of CSMS, with the disclosure of environmental activities and costs (e.g., of land, materials, energy, etc.), can enhance customer loyalty.', 'references': ['Endiana, I., Dicriyani, N. L. G. M., Adiyadnya, M. S. P., & Putra, I. P. M. J. S. (2020). The effect of green accounting on corporate sustainability and financial performance. The Journal of Asian Finance, Economics, and Business, 7(12), 731–738. https://doi.org/10.13106/jafeb.2020.vol7.no12.731'], 'dois': ['https://doi.org/10.13106/jafeb.2020.vol7.no12.731'], 'doc_source': 's10668-023-02933-7.md', 'category': 'Sustainability'}, {'claim': 'From the employees’ perspective, Chang et al. analyzes the effect of green product psychological ownership on their behavior and performance. Specifically, Chang et al. evidence that it is important to establish a solid Green Shared Vision to avoid green confusion, related to the environmental characteristics of a company’s products or services, and improve employees’ economic performance.', 'references': ['Chang, T. W., Wang, K. H., & Lin, Y. H. (2020). Corporate sustainability: It’s mine! effect of green product psychological ownership on the environmental behavior and performance of employees. Sustainability, 12(24), 10514. https://doi.org/10.3390/su122410514'], 'dois': ['https://doi.org/10.3390/su122410514'], 'doc_source': 's10668-023-02933-7.md', 'category': 'Sustainability'}, {'claim': 'Kafa et al. evidences the need for companies to build supply chain management processes that consider the adequate criteria to achieve corporate sustainability.', 'references': ['Kafa, N., Jaeger, A., & Sarkis, J. (2020). Harnessing corporate sustainability decision-making complexity: A field study of complementary approaches. Sustainability, 12(24), 10584. https://doi.org/10.3390/su122410584'], 'dois': ['https://doi.org/10.3390/su122410584'], 'doc_source': 's10668-023-02933-7.md', 'category': 'Sustainability'}, {'claim': 'In a similar approach to Chang et al., Mazur and Walczynia indicate that it is relevant that the sustainable management of human resources (SMHR) is adequately implemented when the company has a solid view of its corporate sustainability perspective, with particular attention on meeting the firm’s needs without compromising the ability to meet future stakeholders’ needs.', 'references': ['Mazur, B., & Walczyn, A. (2020). Bridging sustainable human resource management and corporate sustainability. Sustainability, 12(21), 8987. https://doi.org/10.3390/su12218987'], 'dois': ['https://doi.org/10.3390/su12218987'], 'doc_source': 's10668-023-02933-7.md', 'category': 'Sustainability'}, {'claim': 'Xia et al highlight practices that can improve the corporate sustainability performance of a company, in terms of socio-environmental, socio-economical, and eco-efficiency aspects. Specifically, these practices are related to encouraging environmental innovation, redesigning consumers’ offer, raising support for institutions and policy measures, and organizing synergetic involvement among stakeholders.', 'references': ['Xia, L., Wei, J., Gao, S., & Ma, B. (2020). Promoting corporate sustainability through sustainable resource management: A hybrid decision-making approach incorporating social media data. Environmental Impact Assessment Review, 85, 106459. https://doi.org/10.1016/j.eiar.2020.106459'], 'dois': ['https://doi.org/10.1016/j.eiar.2020.106459'], 'doc_source': 's10668-023-02933-7.md', 'category': 'Sustainability'}, {'claim': 'Crisóstomo et al. identify determinants for corporate sustainability performance. Within these determinants, there are: ownership concentration; companies from environmentally risky sectors; profitability; the firm’s size; growth opportunities; and dept.', 'references': ['Cristóvão, L. V., Freire, F. D. S., & Freitas, M. R. D. O. (2020). Determinants of corporate sustainability performance—Evidence from Brazilian panel data. Social Responsibility Journal, 16(8), 1053–1072. https://doi.org/10.1108/SRJ-04-2018-0102'], 'dois': ['https://doi.org/10.1108/SRJ-04-2018-0102'], 'doc_source': 's10668-023-02933-7.md', 'category': 'Sustainability'}, {'claim': 'Considering the global concern that companies should align their corporate sustainability goals to international requirements, Zhang et al. propose using indicators from the global reporting initiative (GRI) for the corporate sustainability disclosure of firms. However, Zhang et al. assure that there are still challenges because firms in different countries may have a different understanding of corporate sustainability compared to international guidelines, such as those established in the GRI.', 'references': ['Zhang, J., Djajadikerta, H. G., & Trikesnki, T. (2020). Corporate sustainability disclosure’s importance in China: Financial analysts’ perception. Social Responsibility Journal, 16(8), 1169–1189. https://doi.org/10.1108/SRJ-10-2018-0272'], 'dois': ['https://doi.org/10.1108/SRJ-10-2018-0272'], 'doc_source': 's10668-023-02933-7.md', 'category': 'Sustainability'}, {'claim': 'Weber and Chowdury point out the relevance of evaluating corporate sustainability by separating indicators into four groups: social sustainability, environmental sustainability, green products; and services.', 'references': ['Weber, O., & Chowdhury, R. K. (2020). Corporate sustainability in Bangladeshi Banks: Proactive or reactive ethical behavior? Sustainability, 12(19), 999. https://doi.org/10.3390/su12197999'], 'dois': ['https://doi.org/10.3390/su12197999'], 'doc_source': 's10668-023-02933-7.md', 'category': 'Sustainability'}, {'claim': 'Ikram et al. believe that more categories are needed in order to value specific aspects of the firms, such as social sustainability. In specific, Ikram et al. proposes nine categories: Corporate Governance; Product Responsibility; Transparency and Communication; Economic; Environmental; Social; Natural Environment and Climate Vulnerability; Energy Consumption; and Pandemic COVID-19 impact.', 'references': ['Ikram, M., Zhang, Q., Sroufe, R., & Ferasso, M. (2020). The social dimensions of corporate sustainability: An integrative framework including COVID-19 insights. Sustainability, 12, 8747. https://doi.org/10.3390/su12208747'], 'dois': ['https://doi.org/10.3390/su12208747'], 'doc_source': 's10668-023-02933-7.md', 'category': 'Social Sustainability'}, {'claim': 'Hahn et al. assure that the team setting of a company should be diverse in terms of views on problem-solution and sustainability issues. Authors affirm that if teams are dominated by business case-minded (more focused on economic objectives) or paradoxical types (with higher awareness on environmental and social issues), they may be less successful in achieving a significant corporate sustainability performance, while a mixed team may be better in these terms.', 'references': ['Hahn, T., Preuss, L., Pinkse, L., & Figge, F. (2014). Cognitive frames in corporate sustainability: Managerial sensemaking with paradoxical and business case frames. Academy of Management Review, 39, 463–487. https://doi.org/10.5465/amr.2012.0341'], 'dois': ['https://doi.org/10.5465/amr.2012.0341'], 'doc_source': 's10668-023-02933-7.md', 'category': 'Corporate Sustainability'}, {'claim': 'Baumgartner and Rauter argue that to achieve expected corporate sustainability standards, it is important to explore how management can contribute to creating value for businesses, society and nature. Mainly, the authors defend that performance could be improved through strategic management, specifically looking at its three dimensions: strategy process, strategy content, and strategy context.', 'references': ['Baumgartner, R. J., & Rauter, R. (2017). Strategic perspectives of corporate sustainability management to develop a sustainable organization. Journal of Cleaner Production, 140, 81–92. https://doi.org/10.1016/j.jclepro.2016.04.146'], 'dois': ['https://doi.org/10.1016/j.jclepro.2016.04.146'], 'doc_source': 's10668-023-02933-7.md', 'category': 'Corporate Sustainability'}]\n"
     ]
    }
   ],
   "source": [
    "print(claims)"
   ]
  },
  {
   "cell_type": "markdown",
   "metadata": {},
   "source": [
    "## Fetch and filter cited Reports "
   ]
  },
  {
   "cell_type": "code",
   "execution_count": null,
   "metadata": {},
   "outputs": [
    {
     "name": "stderr",
     "output_type": "stream",
     "text": [
      "\u001b[1m[INFO]\u001b[0m | \u001b[32m2024/12/09 00:36:25\u001b[0m | \u001b[1mChoose scihub url [0]: https://sci-hub.ru\u001b[0m\n",
      "\u001b[1m[INFO]\u001b[0m | \u001b[32m2024/12/09 00:36:25\u001b[0m | \u001b[1m<- Request: scihub_url=https://sci-hub.ru, source=DoiSource[type=doi, id=doi.org/10.13106/jafeb.2020.vol7.no12.731], proxies={}\u001b[0m\n",
      "\u001b[1m[INFO]\u001b[0m | \u001b[32m2024/12/09 00:36:25\u001b[0m | \u001b[1m-> Response: status_code=200, content_length=5842\u001b[0m\n",
      "\u001b[33m\u001b[1m[WARNING]\u001b[0m | \u001b[32m2024/12/09 00:36:25\u001b[0m | \u001b[33m\u001b[1mError occurs, task status: extracting_failed, error: No pdf tag was found in the given content with the selector: #pdf\u001b[0m\n",
      "\u001b[1m[INFO]\u001b[0m | \u001b[32m2024/12/09 00:36:25\u001b[0m | \u001b[1mChoose scihub url [1]: http://sci-hub.st\u001b[0m\n",
      "\u001b[1m[INFO]\u001b[0m | \u001b[32m2024/12/09 00:36:25\u001b[0m | \u001b[1m<- Request: scihub_url=http://sci-hub.st, source=DoiSource[type=doi, id=doi.org/10.13106/jafeb.2020.vol7.no12.731], proxies={}\u001b[0m\n",
      "\u001b[1m[INFO]\u001b[0m | \u001b[32m2024/12/09 00:36:25\u001b[0m | \u001b[1m-> Response: status_code=200, content_length=5842\u001b[0m\n",
      "\u001b[33m\u001b[1m[WARNING]\u001b[0m | \u001b[32m2024/12/09 00:36:25\u001b[0m | \u001b[33m\u001b[1mError occurs, task status: extracting_failed, error: No pdf tag was found in the given content with the selector: #pdf\u001b[0m\n",
      "\u001b[1m[INFO]\u001b[0m | \u001b[32m2024/12/09 00:36:25\u001b[0m | \u001b[1mChoose scihub url [2]: http://sci-hub.se\u001b[0m\n",
      "\u001b[1m[INFO]\u001b[0m | \u001b[32m2024/12/09 00:36:25\u001b[0m | \u001b[1m<- Request: scihub_url=http://sci-hub.se, source=DoiSource[type=doi, id=doi.org/10.13106/jafeb.2020.vol7.no12.731], proxies={}\u001b[0m\n",
      "\u001b[1m[INFO]\u001b[0m | \u001b[32m2024/12/09 00:36:26\u001b[0m | \u001b[1m-> Response: status_code=200, content_length=5842\u001b[0m\n",
      "\u001b[33m\u001b[1m[WARNING]\u001b[0m | \u001b[32m2024/12/09 00:36:26\u001b[0m | \u001b[33m\u001b[1mError occurs, task status: extracting_failed, error: No pdf tag was found in the given content with the selector: #pdf\u001b[0m\n",
      "\u001b[1m[INFO]\u001b[0m | \u001b[32m2024/12/09 00:36:26\u001b[0m | \u001b[1mChoose scihub url [3]: https://sci-hub.st\u001b[0m\n",
      "\u001b[1m[INFO]\u001b[0m | \u001b[32m2024/12/09 00:36:26\u001b[0m | \u001b[1m<- Request: scihub_url=https://sci-hub.st, source=DoiSource[type=doi, id=doi.org/10.13106/jafeb.2020.vol7.no12.731], proxies={}\u001b[0m\n",
      "\u001b[1m[INFO]\u001b[0m | \u001b[32m2024/12/09 00:36:26\u001b[0m | \u001b[1m-> Response: status_code=200, content_length=5842\u001b[0m\n",
      "\u001b[33m\u001b[1m[WARNING]\u001b[0m | \u001b[32m2024/12/09 00:36:26\u001b[0m | \u001b[33m\u001b[1mError occurs, task status: extracting_failed, error: No pdf tag was found in the given content with the selector: #pdf\u001b[0m\n",
      "\u001b[1m[INFO]\u001b[0m | \u001b[32m2024/12/09 00:36:26\u001b[0m | \u001b[1mChoose scihub url [4]: http://sci-hub.ru\u001b[0m\n",
      "\u001b[1m[INFO]\u001b[0m | \u001b[32m2024/12/09 00:36:26\u001b[0m | \u001b[1m<- Request: scihub_url=http://sci-hub.ru, source=DoiSource[type=doi, id=doi.org/10.13106/jafeb.2020.vol7.no12.731], proxies={}\u001b[0m\n",
      "\u001b[1m[INFO]\u001b[0m | \u001b[32m2024/12/09 00:36:26\u001b[0m | \u001b[1m-> Response: status_code=200, content_length=5842\u001b[0m\n",
      "\u001b[33m\u001b[1m[WARNING]\u001b[0m | \u001b[32m2024/12/09 00:36:26\u001b[0m | \u001b[33m\u001b[1mError occurs, task status: extracting_failed, error: No pdf tag was found in the given content with the selector: #pdf\u001b[0m\n",
      "\u001b[1m[INFO]\u001b[0m | \u001b[32m2024/12/09 00:36:26\u001b[0m | \u001b[1mChoose scihub url [5]: https://sci-hub.se\u001b[0m\n",
      "\u001b[1m[INFO]\u001b[0m | \u001b[32m2024/12/09 00:36:26\u001b[0m | \u001b[1m<- Request: scihub_url=https://sci-hub.se, source=DoiSource[type=doi, id=doi.org/10.13106/jafeb.2020.vol7.no12.731], proxies={}\u001b[0m\n",
      "\u001b[1m[INFO]\u001b[0m | \u001b[32m2024/12/09 00:36:27\u001b[0m | \u001b[1m-> Response: status_code=200, content_length=5842\u001b[0m\n",
      "\u001b[33m\u001b[1m[WARNING]\u001b[0m | \u001b[32m2024/12/09 00:36:27\u001b[0m | \u001b[33m\u001b[1mError occurs, task status: extracting_failed, error: No pdf tag was found in the given content with the selector: #pdf\u001b[0m\n",
      "\u001b[31m\u001b[1m[ERROR]\u001b[0m | \u001b[32m2024/12/09 00:36:27\u001b[0m | \u001b[31m\u001b[1mFailed to download the paper: https://doi.org/10.13106/jafeb.2020.vol7.no12.731. Please try again.\u001b[0m\n",
      "\u001b[1m[INFO]\u001b[0m | \u001b[32m2024/12/09 00:36:27\u001b[0m | \u001b[1mChoose scihub url [0]: https://sci-hub.ru\u001b[0m\n",
      "\u001b[1m[INFO]\u001b[0m | \u001b[32m2024/12/09 00:36:27\u001b[0m | \u001b[1m<- Request: scihub_url=https://sci-hub.ru, source=DoiSource[type=doi, id=doi.org/10.3390/su122410514], proxies={}\u001b[0m\n"
     ]
    },
    {
     "name": "stdout",
     "output_type": "stream",
     "text": [
      "Downloaded: https://doi.org/10.13106/jafeb.2020.vol7.no12.731\n"
     ]
    },
    {
     "name": "stderr",
     "output_type": "stream",
     "text": [
      "\u001b[1m[INFO]\u001b[0m | \u001b[32m2024/12/09 00:36:27\u001b[0m | \u001b[1m-> Response: status_code=200, content_length=7974\u001b[0m\n",
      "\u001b[1m[INFO]\u001b[0m | \u001b[32m2024/12/09 00:36:27\u001b[0m | \u001b[1m* Extracted information: {'url': 'https://sci-hub.ru/downloads/2020-12-23/2e/10.3390@su122410514.pdf', 'title': 'Corporate Sustainability  It’s Mine! Effect of Green Product Psychological Ownership on the Environmental Behavior and Performance of Employees. Sustainability, 12(24), 10514'}\u001b[0m\n"
     ]
    },
    {
     "name": "stdout",
     "output_type": "stream",
     "text": [
      "100% [==================================================] 603723/603723\n"
     ]
    },
    {
     "name": "stderr",
     "output_type": "stream",
     "text": [
      "\u001b[1m[INFO]\u001b[0m | \u001b[32m2024/12/09 00:36:27\u001b[0m | \u001b[1m↓ Successfully download the url to: citet_papers\\Corporate Sustainability  It’s Mine! Effect of Green Product Psychological Ownership on the Environmental Behavior and Performance of Employees. Sustainability, 12(24), 10514.pdf\u001b[0m\n"
     ]
    },
    {
     "name": "stdout",
     "output_type": "stream",
     "text": [
      "Downloaded: https://doi.org/10.3390/su122410514\n"
     ]
    },
    {
     "name": "stderr",
     "output_type": "stream",
     "text": [
      "\u001b[1m[INFO]\u001b[0m | \u001b[32m2024/12/09 00:36:27\u001b[0m | \u001b[1mChoose scihub url [0]: https://sci-hub.ru\u001b[0m\n",
      "\u001b[1m[INFO]\u001b[0m | \u001b[32m2024/12/09 00:36:27\u001b[0m | \u001b[1m<- Request: scihub_url=https://sci-hub.ru, source=DoiSource[type=doi, id=doi.org/10.3390/su122410584], proxies={}\u001b[0m\n",
      "\u001b[1m[INFO]\u001b[0m | \u001b[32m2024/12/09 00:36:28\u001b[0m | \u001b[1m-> Response: status_code=200, content_length=7894\u001b[0m\n",
      "\u001b[1m[INFO]\u001b[0m | \u001b[32m2024/12/09 00:36:28\u001b[0m | \u001b[1m* Extracted information: {'url': 'https://sci-hub.ru/downloads/2020-12-22/8c/10.3390@su122410584.pdf', 'title': 'Harnessing Corporate Sustainability Decision-Making Complexity  A Field Study of Complementary Approaches. Sustainability, 12(24), 10584'}\u001b[0m\n"
     ]
    },
    {
     "name": "stdout",
     "output_type": "stream",
     "text": [
      "100% [==================================================] 4896779/4896779\n"
     ]
    },
    {
     "name": "stderr",
     "output_type": "stream",
     "text": [
      "\u001b[1m[INFO]\u001b[0m | \u001b[32m2024/12/09 00:36:29\u001b[0m | \u001b[1m↓ Successfully download the url to: citet_papers\\Harnessing Corporate Sustainability Decision-Making Complexity  A Field Study of Complementary Approaches. Sustainability, 12(24), 10584.pdf\u001b[0m\n"
     ]
    },
    {
     "name": "stdout",
     "output_type": "stream",
     "text": [
      "Downloaded: https://doi.org/10.3390/su122410584\n"
     ]
    },
    {
     "name": "stderr",
     "output_type": "stream",
     "text": [
      "\u001b[1m[INFO]\u001b[0m | \u001b[32m2024/12/09 00:36:29\u001b[0m | \u001b[1mChoose scihub url [0]: https://sci-hub.ru\u001b[0m\n",
      "\u001b[1m[INFO]\u001b[0m | \u001b[32m2024/12/09 00:36:29\u001b[0m | \u001b[1m<- Request: scihub_url=https://sci-hub.ru, source=DoiSource[type=doi, id=doi.org/10.3390/su12218987], proxies={}\u001b[0m\n",
      "\u001b[1m[INFO]\u001b[0m | \u001b[32m2024/12/09 00:36:29\u001b[0m | \u001b[1m-> Response: status_code=200, content_length=7799\u001b[0m\n",
      "\u001b[1m[INFO]\u001b[0m | \u001b[32m2024/12/09 00:36:29\u001b[0m | \u001b[1m* Extracted information: {'url': 'https://sci-hub.ru/downloads/2020-11-04/fe/mazur2020.pdf', 'title': 'Bridging Sustainable Human Resource Management and Corporate Sustainability. Sustainability, 12(21), 8987'}\u001b[0m\n"
     ]
    },
    {
     "name": "stdout",
     "output_type": "stream",
     "text": [
      "100% [==================================================] 1315197/1315197\n"
     ]
    },
    {
     "name": "stderr",
     "output_type": "stream",
     "text": [
      "\u001b[1m[INFO]\u001b[0m | \u001b[32m2024/12/09 00:36:29\u001b[0m | \u001b[1m↓ Successfully download the url to: citet_papers\\Bridging Sustainable Human Resource Management and Corporate Sustainability. Sustainability, 12(21), 8987.pdf\u001b[0m\n"
     ]
    },
    {
     "name": "stdout",
     "output_type": "stream",
     "text": [
      "Downloaded: https://doi.org/10.3390/su12218987\n"
     ]
    },
    {
     "name": "stderr",
     "output_type": "stream",
     "text": [
      "\u001b[1m[INFO]\u001b[0m | \u001b[32m2024/12/09 00:36:30\u001b[0m | \u001b[1mChoose scihub url [0]: https://sci-hub.ru\u001b[0m\n",
      "\u001b[1m[INFO]\u001b[0m | \u001b[32m2024/12/09 00:36:30\u001b[0m | \u001b[1m<- Request: scihub_url=https://sci-hub.ru, source=DoiSource[type=doi, id=doi.org/10.1016/j.eiar.2020.106459], proxies={}\u001b[0m\n",
      "\u001b[1m[INFO]\u001b[0m | \u001b[32m2024/12/09 00:36:30\u001b[0m | \u001b[1m-> Response: status_code=200, content_length=8005\u001b[0m\n",
      "\u001b[1m[INFO]\u001b[0m | \u001b[32m2024/12/09 00:36:30\u001b[0m | \u001b[1m* Extracted information: {'url': 'https://sci-hub.ru/downloads/2020-10-08/35/xia2020.pdf', 'title': 'Promoting corporate sustainability through sustainable resource management  A hybrid decision-making approach incorporating social media data. Environmental Impact Assessment Review, 85, 106459'}\u001b[0m\n"
     ]
    },
    {
     "name": "stdout",
     "output_type": "stream",
     "text": [
      "100% [==================================================] 2529944/2529944\n"
     ]
    },
    {
     "name": "stderr",
     "output_type": "stream",
     "text": [
      "\u001b[1m[INFO]\u001b[0m | \u001b[32m2024/12/09 00:36:31\u001b[0m | \u001b[1m↓ Successfully download the url to: citet_papers\\Promoting corporate sustainability through sustainable resource management  A hybrid decision-making approach incorporating social media data. Environmental Impact Assessment Review, 85, 106459.pdf\u001b[0m\n"
     ]
    },
    {
     "name": "stdout",
     "output_type": "stream",
     "text": [
      "Downloaded: https://doi.org/10.1016/j.eiar.2020.106459\n"
     ]
    },
    {
     "name": "stderr",
     "output_type": "stream",
     "text": [
      "\u001b[1m[INFO]\u001b[0m | \u001b[32m2024/12/09 00:36:31\u001b[0m | \u001b[1mChoose scihub url [0]: https://sci-hub.ru\u001b[0m\n",
      "\u001b[1m[INFO]\u001b[0m | \u001b[32m2024/12/09 00:36:31\u001b[0m | \u001b[1m<- Request: scihub_url=https://sci-hub.ru, source=DoiSource[type=doi, id=doi.org/10.1108/SRJ-04-2018-0102], proxies={}\u001b[0m\n",
      "\u001b[1m[INFO]\u001b[0m | \u001b[32m2024/12/09 00:36:31\u001b[0m | \u001b[1m-> Response: status_code=200, content_length=7947\u001b[0m\n",
      "\u001b[1m[INFO]\u001b[0m | \u001b[32m2024/12/09 00:36:31\u001b[0m | \u001b[1m* Extracted information: {'url': 'https://sci-hub.ru/downloads/2020-07-21/98/10.1108@srj-04-2018-0102.pdf', 'title': 'Determinants of corporate sustainability performance – evidence from Brazilian panel data. Social Responsibility Journal, 16(8), 1053–1072'}\u001b[0m\n"
     ]
    },
    {
     "name": "stdout",
     "output_type": "stream",
     "text": [
      "100% [==================================================] 201956/201956\n"
     ]
    },
    {
     "name": "stderr",
     "output_type": "stream",
     "text": [
      "\u001b[1m[INFO]\u001b[0m | \u001b[32m2024/12/09 00:36:31\u001b[0m | \u001b[1m↓ Successfully download the url to: citet_papers\\Determinants of corporate sustainability performance – evidence from Brazilian panel data. Social Responsibility Journal, 16(8), 1053–1072.pdf\u001b[0m\n",
      "\u001b[1m[INFO]\u001b[0m | \u001b[32m2024/12/09 00:36:31\u001b[0m | \u001b[1mChoose scihub url [0]: https://sci-hub.ru\u001b[0m\n",
      "\u001b[1m[INFO]\u001b[0m | \u001b[32m2024/12/09 00:36:31\u001b[0m | \u001b[1m<- Request: scihub_url=https://sci-hub.ru, source=DoiSource[type=doi, id=doi.org/10.1108/SRJ-10-2018-0272], proxies={}\u001b[0m\n"
     ]
    },
    {
     "name": "stdout",
     "output_type": "stream",
     "text": [
      "Downloaded: https://doi.org/10.1108/SRJ-04-2018-0102\n"
     ]
    },
    {
     "name": "stderr",
     "output_type": "stream",
     "text": [
      "\u001b[1m[INFO]\u001b[0m | \u001b[32m2024/12/09 00:36:31\u001b[0m | \u001b[1m-> Response: status_code=200, content_length=7934\u001b[0m\n",
      "\u001b[1m[INFO]\u001b[0m | \u001b[32m2024/12/09 00:36:31\u001b[0m | \u001b[1m* Extracted information: {'url': 'https://sci-hub.ru/downloads/2020-07-25/37/zhang2019.pdf', 'title': 'Corporate sustainability disclosure’s importance in China  financial analysts’ perception. Social Responsibility Journal, ahead-of-print(ahead-of-print)'}\u001b[0m\n"
     ]
    },
    {
     "name": "stdout",
     "output_type": "stream",
     "text": [
      "100% [==================================================] 197315/197315\n"
     ]
    },
    {
     "name": "stderr",
     "output_type": "stream",
     "text": [
      "\u001b[1m[INFO]\u001b[0m | \u001b[32m2024/12/09 00:36:32\u001b[0m | \u001b[1m↓ Successfully download the url to: citet_papers\\Corporate sustainability disclosure’s importance in China  financial analysts’ perception. Social Responsibility Journal, ahead-of-print(ahead-of-print).pdf\u001b[0m\n",
      "\u001b[1m[INFO]\u001b[0m | \u001b[32m2024/12/09 00:36:32\u001b[0m | \u001b[1mChoose scihub url [0]: https://sci-hub.ru\u001b[0m\n",
      "\u001b[1m[INFO]\u001b[0m | \u001b[32m2024/12/09 00:36:32\u001b[0m | \u001b[1m<- Request: scihub_url=https://sci-hub.ru, source=DoiSource[type=doi, id=doi.org/10.3390/su12197999], proxies={}\u001b[0m\n"
     ]
    },
    {
     "name": "stdout",
     "output_type": "stream",
     "text": [
      "Downloaded: https://doi.org/10.1108/SRJ-10-2018-0272\n"
     ]
    },
    {
     "name": "stderr",
     "output_type": "stream",
     "text": [
      "\u001b[1m[INFO]\u001b[0m | \u001b[32m2024/12/09 00:36:32\u001b[0m | \u001b[1m-> Response: status_code=200, content_length=7822\u001b[0m\n",
      "\u001b[1m[INFO]\u001b[0m | \u001b[32m2024/12/09 00:36:32\u001b[0m | \u001b[1m* Extracted information: {'url': 'https://sci-hub.ru/downloads/2020-10-14/6c/weber2020.pdf', 'title': 'Corporate Sustainability in Bangladeshi Banks  Proactive or Reactive Ethical Behavior  Sustainability, 12(19), 7999'}\u001b[0m\n"
     ]
    },
    {
     "name": "stdout",
     "output_type": "stream",
     "text": [
      "100% [==================================================] 878008/878008\n"
     ]
    },
    {
     "name": "stderr",
     "output_type": "stream",
     "text": [
      "\u001b[1m[INFO]\u001b[0m | \u001b[32m2024/12/09 00:36:32\u001b[0m | \u001b[1m↓ Successfully download the url to: citet_papers\\Corporate Sustainability in Bangladeshi Banks  Proactive or Reactive Ethical Behavior  Sustainability, 12(19), 7999.pdf\u001b[0m\n"
     ]
    },
    {
     "name": "stdout",
     "output_type": "stream",
     "text": [
      "Downloaded: https://doi.org/10.3390/su12197999\n"
     ]
    },
    {
     "name": "stderr",
     "output_type": "stream",
     "text": [
      "\u001b[1m[INFO]\u001b[0m | \u001b[32m2024/12/09 00:36:32\u001b[0m | \u001b[1mChoose scihub url [0]: https://sci-hub.ru\u001b[0m\n",
      "\u001b[1m[INFO]\u001b[0m | \u001b[32m2024/12/09 00:36:32\u001b[0m | \u001b[1m<- Request: scihub_url=https://sci-hub.ru, source=DoiSource[type=doi, id=doi.org/10.3390/su12208747], proxies={}\u001b[0m\n",
      "\u001b[1m[INFO]\u001b[0m | \u001b[32m2024/12/09 00:36:33\u001b[0m | \u001b[1m-> Response: status_code=200, content_length=7877\u001b[0m\n",
      "\u001b[1m[INFO]\u001b[0m | \u001b[32m2024/12/09 00:36:33\u001b[0m | \u001b[1m* Extracted information: {'url': 'https://sci-hub.ru/downloads/2020-11-04/57/ikram2020.pdf', 'title': 'The Social Dimensions of Corporate Sustainability  An Integrative Framework Including COVID-19 Insights. Sustainability, 12(20), 8747'}\u001b[0m\n"
     ]
    },
    {
     "name": "stdout",
     "output_type": "stream",
     "text": [
      "100% [==================================================] 4106568/4106568\n"
     ]
    },
    {
     "name": "stderr",
     "output_type": "stream",
     "text": [
      "\u001b[1m[INFO]\u001b[0m | \u001b[32m2024/12/09 00:36:34\u001b[0m | \u001b[1m↓ Successfully download the url to: citet_papers\\The Social Dimensions of Corporate Sustainability  An Integrative Framework Including COVID-19 Insights. Sustainability, 12(20), 8747.pdf\u001b[0m\n"
     ]
    },
    {
     "name": "stdout",
     "output_type": "stream",
     "text": [
      "Downloaded: https://doi.org/10.3390/su12208747\n"
     ]
    },
    {
     "name": "stderr",
     "output_type": "stream",
     "text": [
      "\u001b[1m[INFO]\u001b[0m | \u001b[32m2024/12/09 00:36:34\u001b[0m | \u001b[1mChoose scihub url [0]: https://sci-hub.ru\u001b[0m\n",
      "\u001b[1m[INFO]\u001b[0m | \u001b[32m2024/12/09 00:36:34\u001b[0m | \u001b[1m<- Request: scihub_url=https://sci-hub.ru, source=DoiSource[type=doi, id=doi.org/10.5465/amr.2012.0341], proxies={}\u001b[0m\n",
      "\u001b[1m[INFO]\u001b[0m | \u001b[32m2024/12/09 00:36:34\u001b[0m | \u001b[1m-> Response: status_code=200, content_length=7963\u001b[0m\n",
      "\u001b[1m[INFO]\u001b[0m | \u001b[32m2024/12/09 00:36:34\u001b[0m | \u001b[1m* Extracted information: {'url': 'https://moscow.sci-hub.ru/3203/04f15f4b3b20cebeec124321dd7547d8/hahn2014.pdf', 'title': 'Cognitive Frames in Corporate Sustainability  Managerial Sensemaking with Paradoxical and Business Case Frames. Academy of Management Review, 39(4), 463–487'}\u001b[0m\n"
     ]
    },
    {
     "name": "stdout",
     "output_type": "stream",
     "text": [
      "100% [==================================================] 418234/418234\n"
     ]
    },
    {
     "name": "stderr",
     "output_type": "stream",
     "text": [
      "\u001b[1m[INFO]\u001b[0m | \u001b[32m2024/12/09 00:36:34\u001b[0m | \u001b[1m↓ Successfully download the url to: citet_papers\\Cognitive Frames in Corporate Sustainability  Managerial Sensemaking with Paradoxical and Business Case Frames. Academy of Management Review, 39(4), 463–487.pdf\u001b[0m\n",
      "\u001b[1m[INFO]\u001b[0m | \u001b[32m2024/12/09 00:36:34\u001b[0m | \u001b[1mChoose scihub url [0]: https://sci-hub.ru\u001b[0m\n",
      "\u001b[1m[INFO]\u001b[0m | \u001b[32m2024/12/09 00:36:34\u001b[0m | \u001b[1m<- Request: scihub_url=https://sci-hub.ru, source=DoiSource[type=doi, id=doi.org/10.1016/j.jclepro.2016.04.146], proxies={}\u001b[0m\n"
     ]
    },
    {
     "name": "stdout",
     "output_type": "stream",
     "text": [
      "Downloaded: https://doi.org/10.5465/amr.2012.0341\n"
     ]
    },
    {
     "name": "stderr",
     "output_type": "stream",
     "text": [
      "\u001b[1m[INFO]\u001b[0m | \u001b[32m2024/12/09 00:36:34\u001b[0m | \u001b[1m-> Response: status_code=200, content_length=7841\u001b[0m\n",
      "\u001b[1m[INFO]\u001b[0m | \u001b[32m2024/12/09 00:36:34\u001b[0m | \u001b[1m* Extracted information: {'url': 'https://dacemirror.sci-hub.ru/journal-article/fdde4e646a22395654d744f8a8b0ea9c/baumgartner2016.pdf', 'title': ''}\u001b[0m\n"
     ]
    },
    {
     "name": "stdout",
     "output_type": "stream",
     "text": [
      "100% [==================================================] 2692460/2692460\n"
     ]
    },
    {
     "name": "stderr",
     "output_type": "stream",
     "text": [
      "\u001b[1m[INFO]\u001b[0m | \u001b[32m2024/12/09 00:36:35\u001b[0m | \u001b[1m↓ Successfully download the url to: citet_papers\\.pdf\u001b[0m\n"
     ]
    },
    {
     "name": "stdout",
     "output_type": "stream",
     "text": [
      "Downloaded: https://doi.org/10.1016/j.jclepro.2016.04.146\n",
      "[{'claim': 'Endiana et al. affirm that the accounting sector of a company can promote environmental conservation through environmental costs, and at the same time, improve performance when implementing a Corporate Sustainability Management System (CSMS). Mainly, Endiana et al. evidence that allocating appropriate environmental costs through CSMS can effectively improve the company’s financial performance. Besides, it is believed that a proper application of CSMS, with the disclosure of environmental activities and costs (e.g., of land, materials, energy, etc.), can enhance customer loyalty.', 'references': ['Endiana, I., Dicriyani, N. L. G. M., Adiyadnya, M. S. P., & Putra, I. P. M. J. S. (2020). The effect of green accounting on corporate sustainability and financial performance. The Journal of Asian Finance, Economics, and Business, 7(12), 731–738. https://doi.org/10.13106/jafeb.2020.vol7.no12.731'], 'dois': ['https://doi.org/10.13106/jafeb.2020.vol7.no12.731'], 'doc_source': 's10668-023-02933-7.md'}, {'claim': 'From the employees’ perspective, Chang et al. analyzes the effect of green product psychological ownership on their behavior and performance. Specifically, Chang et al. evidence that it is important to establish a solid Green Shared Vision to avoid green confusion, related to the environmental characteristics of a company’s products or services, and improve employees’ economic performance.', 'references': ['Chang, T. W., Wang, K. H., & Lin, Y. H. (2020). Corporate sustainability: It’s mine! effect of green product psychological ownership on the environmental behavior and performance of employees. Sustainability, 12(24), 10514. https://doi.org/10.3390/su122410514'], 'dois': ['https://doi.org/10.3390/su122410514'], 'doc_source': 's10668-023-02933-7.md'}, {'claim': 'Kafa et al. evidences the need for companies to build supply chain management processes that consider the adequate criteria to achieve corporate sustainability.', 'references': ['Kafa, N., Jaeger, A., & Sarkis, J. (2020). Harnessing corporate sustainability decision-making complexity: A field study of complementary approaches. Sustainability, 12(24), 10584. https://doi.org/10.3390/su122410584'], 'dois': ['https://doi.org/10.3390/su122410584'], 'doc_source': 's10668-023-02933-7.md'}, {'claim': 'In a similar approach to Chang et al., Mazur and Walczynia indicate that it is relevant that the sustainable management of human resources (SMHR) is adequately implemented when the company has a solid view of its corporate sustainability perspective, with particular attention on meeting the firm’s needs without compromising the ability to meet future stakeholders’ needs.', 'references': ['Mazur, B., & Walczyn, A. (2020). Bridging sustainable human resource management and corporate sustainability. Sustainability, 12(21), 8987. https://doi.org/10.3390/su12218987'], 'dois': ['https://doi.org/10.3390/su12218987'], 'doc_source': 's10668-023-02933-7.md'}, {'claim': 'Xia et al highlight practices that can improve the corporate sustainability performance of a company, in terms of socio-environmental, socio-economical, and eco-efficiency aspects. Specifically, these practices are related to encouraging environmental innovation, redesigning consumers’ offer, raising support for institutions and policy measures, and organizing synergetic involvement among stakeholders.', 'references': ['Xia, L., Wei, J., Gao, S., & Ma, B. (2020). Promoting corporate sustainability through sustainable resource management: A hybrid decision-making approach incorporating social media data. Environmental Impact Assessment Review, 85, 106459. https://doi.org/10.1016/j.eiar.2020.106459'], 'dois': ['https://doi.org/10.1016/j.eiar.2020.106459'], 'doc_source': 's10668-023-02933-7.md'}, {'claim': 'Crisóstomo et al. identify determinants for corporate sustainability performance. Within these determinants, there are: ownership concentration; companies from environmentally risky sectors; profitability; the firm’s size; growth opportunities; and dept.', 'references': ['Cristóvão, L. V., Freire, F. D. S., & Freitas, M. R. D. O. (2020). Determinants of corporate sustainability performance—Evidence from Brazilian panel data. Social Responsibility Journal, 16(8), 1053–1072. https://doi.org/10.1108/SRJ-04-2018-0102'], 'dois': ['https://doi.org/10.1108/SRJ-04-2018-0102'], 'doc_source': 's10668-023-02933-7.md'}, {'claim': 'Considering the global concern that companies should align their corporate sustainability goals to international requirements, Zhang et al. propose using indicators from the global reporting initiative (GRI) for the corporate sustainability disclosure of firms. However, Zhang et al. assure that there are still challenges because firms in different countries may have a different understanding of corporate sustainability compared to international guidelines, such as those established in the GRI.', 'references': ['Zhang, J., Djajadikerta, H. G., & Trikesnki, T. (2020). Corporate sustainability disclosure’s importance in China: Financial analysts’ perception. Social Responsibility Journal, 16(8), 1169–1189. https://doi.org/10.1108/SRJ-10-2018-0272'], 'dois': ['https://doi.org/10.1108/SRJ-10-2018-0272'], 'doc_source': 's10668-023-02933-7.md'}, {'claim': 'Weber and Chowdury point out the relevance of evaluating corporate sustainability by separating indicators into four groups: social sustainability, environmental sustainability, green products; and services.', 'references': ['Weber, O., & Chowdhury, R. K. (2020). Corporate sustainability in Bangladeshi Banks: Proactive or reactive ethical behavior? Sustainability, 12(19), 999. https://doi.org/10.3390/su12197999'], 'dois': ['https://doi.org/10.3390/su12197999'], 'doc_source': 's10668-023-02933-7.md'}, {'claim': 'Ikram et al. believe that more categories are needed in order to value specific aspects of the firms, such as social sustainability. In specific, Ikram et al. proposes nine categories: Corporate Governance; Product Responsibility; Transparency and Communication; Economic; Environmental; Social; Natural Environment and Climate Vulnerability; Energy Consumption; and Pandemic COVID-19 impact.', 'references': ['Ikram, M., Zhang, Q., Sroufe, R., & Ferasso, M. (2020). The social dimensions of corporate sustainability: An integrative framework including COVID-19 insights. Sustainability, 12, 8747. https://doi.org/10.3390/su12208747'], 'dois': ['https://doi.org/10.3390/su12208747'], 'doc_source': 's10668-023-02933-7.md'}, {'claim': 'Hahn et al. assure that the team setting of a company should be diverse in terms of views on problem-solution and sustainability issues. Authors affirm that if teams are dominated by business case-minded (more focused on economic objectives) or paradoxical types (with higher awareness on environmental and social issues), they may be less successful in achieving a significant corporate sustainability performance, while a mixed team may be better in these terms.', 'references': ['Hahn, T., Preuss, L., Pinkse, L., & Figge, F. (2014). Cognitive frames in corporate sustainability: Managerial sensemaking with paradoxical and business case frames. Academy of Management Review, 39, 463–487. https://doi.org/10.5465/amr.2012.0341'], 'dois': ['https://doi.org/10.5465/amr.2012.0341'], 'doc_source': 's10668-023-02933-7.md'}, {'claim': 'Baumgartner and Rauter argue that to achieve expected corporate sustainability standards, it is important to explore how management can contribute to creating value for businesses, society and nature. Mainly, the authors defend that performance could be improved through strategic management, specifically looking at its three dimensions: strategy process, strategy content, and strategy context.', 'references': ['Baumgartner, R. J., & Rauter, R. (2017). Strategic perspectives of corporate sustainability management to develop a sustainable organization. Journal of Cleaner Production, 140, 81–92. https://doi.org/10.1016/j.jclepro.2016.04.146'], 'dois': ['https://doi.org/10.1016/j.jclepro.2016.04.146'], 'doc_source': 's10668-023-02933-7.md'}]\n"
     ]
    }
   ],
   "source": [
    "import os\n",
    "from scidownl import scihub_download\n",
    "\n",
    "download_dir = \"citet_papers/\"\n",
    "os.makedirs(download_dir, exist_ok=True)\n",
    "\n",
    "downloaded_dois = set()\n",
    "filtered_claims = []\n",
    "\n",
    "for claim in claims:\n",
    "    valid_dois = [doi for doi in claim[\"dois\"] if doi]\n",
    "    if valid_dois:\n",
    "        filtered_claims.append(claim)\n",
    "\n",
    "for claim in filtered_claims:\n",
    "    for doi in claim[\"dois\"]:\n",
    "        if doi not in downloaded_dois:\n",
    "            try:\n",
    "\n",
    "                scihub_download(doi, paper_type=\"doi\", out=download_dir)\n",
    "                downloaded_dois.add(doi)\n",
    "                print(f\"Downloaded: {doi}\")\n",
    "            except Exception as e:\n",
    "                print(f\"Failed to download {doi}: {e}\")\n",
    "\n",
    "# update claims to only include those with successfully downloaded PDFs\n",
    "final_claims = [\n",
    "    claim for claim in filtered_claims\n",
    "    if all(doi in downloaded_dois for doi in claim[\"dois\"])\n",
    "]\n",
    "\n",
    "print(final_claims)\n"
   ]
  },
  {
   "cell_type": "markdown",
   "metadata": {},
   "source": [
    "## Categorize the claims "
   ]
  },
  {
   "cell_type": "code",
   "execution_count": 38,
   "metadata": {},
   "outputs": [
    {
     "name": "stdout",
     "output_type": "stream",
     "text": [
      "Final Claims with Categories: [{'claim': 'Endiana et al. affirm that the accounting sector of a company can promote environmental conservation through environmental costs, and at the same time, improve performance when implementing a Corporate Sustainability Management System (CSMS). Mainly, Endiana et al. evidence that allocating appropriate environmental costs through CSMS can effectively improve the company’s financial performance. Besides, it is believed that a proper application of CSMS, with the disclosure of environmental activities and costs (e.g., of land, materials, energy, etc.), can enhance customer loyalty.', 'references': ['Endiana, I., Dicriyani, N. L. G. M., Adiyadnya, M. S. P., & Putra, I. P. M. J. S. (2020). The effect of green accounting on corporate sustainability and financial performance. The Journal of Asian Finance, Economics, and Business, 7(12), 731–738. https://doi.org/10.13106/jafeb.2020.vol7.no12.731'], 'dois': ['https://doi.org/10.13106/jafeb.2020.vol7.no12.731'], 'doc_source': 's10668-023-02933-7.md', 'category': 'Sustainability'}, {'claim': 'From the employees’ perspective, Chang et al. analyzes the effect of green product psychological ownership on their behavior and performance. Specifically, Chang et al. evidence that it is important to establish a solid Green Shared Vision to avoid green confusion, related to the environmental characteristics of a company’s products or services, and improve employees’ economic performance.', 'references': ['Chang, T. W., Wang, K. H., & Lin, Y. H. (2020). Corporate sustainability: It’s mine! effect of green product psychological ownership on the environmental behavior and performance of employees. Sustainability, 12(24), 10514. https://doi.org/10.3390/su122410514'], 'dois': ['https://doi.org/10.3390/su122410514'], 'doc_source': 's10668-023-02933-7.md', 'category': 'Sustainability'}, {'claim': 'Kafa et al. evidences the need for companies to build supply chain management processes that consider the adequate criteria to achieve corporate sustainability.', 'references': ['Kafa, N., Jaeger, A., & Sarkis, J. (2020). Harnessing corporate sustainability decision-making complexity: A field study of complementary approaches. Sustainability, 12(24), 10584. https://doi.org/10.3390/su122410584'], 'dois': ['https://doi.org/10.3390/su122410584'], 'doc_source': 's10668-023-02933-7.md', 'category': 'Sustainability'}, {'claim': 'In a similar approach to Chang et al., Mazur and Walczynia indicate that it is relevant that the sustainable management of human resources (SMHR) is adequately implemented when the company has a solid view of its corporate sustainability perspective, with particular attention on meeting the firm’s needs without compromising the ability to meet future stakeholders’ needs.', 'references': ['Mazur, B., & Walczyn, A. (2020). Bridging sustainable human resource management and corporate sustainability. Sustainability, 12(21), 8987. https://doi.org/10.3390/su12218987'], 'dois': ['https://doi.org/10.3390/su12218987'], 'doc_source': 's10668-023-02933-7.md', 'category': 'Sustainability'}, {'claim': 'Xia et al highlight practices that can improve the corporate sustainability performance of a company, in terms of socio-environmental, socio-economical, and eco-efficiency aspects. Specifically, these practices are related to encouraging environmental innovation, redesigning consumers’ offer, raising support for institutions and policy measures, and organizing synergetic involvement among stakeholders.', 'references': ['Xia, L., Wei, J., Gao, S., & Ma, B. (2020). Promoting corporate sustainability through sustainable resource management: A hybrid decision-making approach incorporating social media data. Environmental Impact Assessment Review, 85, 106459. https://doi.org/10.1016/j.eiar.2020.106459'], 'dois': ['https://doi.org/10.1016/j.eiar.2020.106459'], 'doc_source': 's10668-023-02933-7.md', 'category': 'Sustainability'}, {'claim': 'Crisóstomo et al. identify determinants for corporate sustainability performance. Within these determinants, there are: ownership concentration; companies from environmentally risky sectors; profitability; the firm’s size; growth opportunities; and dept.', 'references': ['Cristóvão, L. V., Freire, F. D. S., & Freitas, M. R. D. O. (2020). Determinants of corporate sustainability performance—Evidence from Brazilian panel data. Social Responsibility Journal, 16(8), 1053–1072. https://doi.org/10.1108/SRJ-04-2018-0102'], 'dois': ['https://doi.org/10.1108/SRJ-04-2018-0102'], 'doc_source': 's10668-023-02933-7.md', 'category': 'Sustainability'}, {'claim': 'Considering the global concern that companies should align their corporate sustainability goals to international requirements, Zhang et al. propose using indicators from the global reporting initiative (GRI) for the corporate sustainability disclosure of firms. However, Zhang et al. assure that there are still challenges because firms in different countries may have a different understanding of corporate sustainability compared to international guidelines, such as those established in the GRI.', 'references': ['Zhang, J., Djajadikerta, H. G., & Trikesnki, T. (2020). Corporate sustainability disclosure’s importance in China: Financial analysts’ perception. Social Responsibility Journal, 16(8), 1169–1189. https://doi.org/10.1108/SRJ-10-2018-0272'], 'dois': ['https://doi.org/10.1108/SRJ-10-2018-0272'], 'doc_source': 's10668-023-02933-7.md', 'category': 'Sustainability'}, {'claim': 'Weber and Chowdury point out the relevance of evaluating corporate sustainability by separating indicators into four groups: social sustainability, environmental sustainability, green products; and services.', 'references': ['Weber, O., & Chowdhury, R. K. (2020). Corporate sustainability in Bangladeshi Banks: Proactive or reactive ethical behavior? Sustainability, 12(19), 999. https://doi.org/10.3390/su12197999'], 'dois': ['https://doi.org/10.3390/su12197999'], 'doc_source': 's10668-023-02933-7.md', 'category': 'Sustainability'}, {'claim': 'Ikram et al. believe that more categories are needed in order to value specific aspects of the firms, such as social sustainability. In specific, Ikram et al. proposes nine categories: Corporate Governance; Product Responsibility; Transparency and Communication; Economic; Environmental; Social; Natural Environment and Climate Vulnerability; Energy Consumption; and Pandemic COVID-19 impact.', 'references': ['Ikram, M., Zhang, Q., Sroufe, R., & Ferasso, M. (2020). The social dimensions of corporate sustainability: An integrative framework including COVID-19 insights. Sustainability, 12, 8747. https://doi.org/10.3390/su12208747'], 'dois': ['https://doi.org/10.3390/su12208747'], 'doc_source': 's10668-023-02933-7.md', 'category': 'Social Sustainability'}, {'claim': 'Hahn et al. assure that the team setting of a company should be diverse in terms of views on problem-solution and sustainability issues. Authors affirm that if teams are dominated by business case-minded (more focused on economic objectives) or paradoxical types (with higher awareness on environmental and social issues), they may be less successful in achieving a significant corporate sustainability performance, while a mixed team may be better in these terms.', 'references': ['Hahn, T., Preuss, L., Pinkse, L., & Figge, F. (2014). Cognitive frames in corporate sustainability: Managerial sensemaking with paradoxical and business case frames. Academy of Management Review, 39, 463–487. https://doi.org/10.5465/amr.2012.0341'], 'dois': ['https://doi.org/10.5465/amr.2012.0341'], 'doc_source': 's10668-023-02933-7.md', 'category': 'Corporate Sustainability'}, {'claim': 'Baumgartner and Rauter argue that to achieve expected corporate sustainability standards, it is important to explore how management can contribute to creating value for businesses, society and nature. Mainly, the authors defend that performance could be improved through strategic management, specifically looking at its three dimensions: strategy process, strategy content, and strategy context.', 'references': ['Baumgartner, R. J., & Rauter, R. (2017). Strategic perspectives of corporate sustainability management to develop a sustainable organization. Journal of Cleaner Production, 140, 81–92. https://doi.org/10.1016/j.jclepro.2016.04.146'], 'dois': ['https://doi.org/10.1016/j.jclepro.2016.04.146'], 'doc_source': 's10668-023-02933-7.md', 'category': 'Corporate Sustainability'}]\n",
      "All Discovered Categories: ['Sustainability', 'Social Sustainability', 'Corporate Sustainability']\n",
      "Amount of claims: 11\n"
     ]
    }
   ],
   "source": [
    "from typing import List\n",
    "from pydantic import BaseModel, Field\n",
    "from langchain.prompts import PromptTemplate\n",
    "from langchain.output_parsers import PydanticOutputParser\n",
    "\n",
    "class CategoryResponse(BaseModel):\n",
    "    category: str = Field(description=\"The category of the given claim\")\n",
    "\n",
    "parser = PydanticOutputParser(pydantic_object=CategoryResponse)\n",
    "\n",
    "extract_prompt = PromptTemplate(\n",
    "    input_variables=[\"claim\", \"categories\"],\n",
    "    partial_variables={\"format_output\": parser.get_format_instructions()},\n",
    "    template=\"\"\"You have a list of existing categories:\n",
    "{categories}\n",
    "\n",
    "Please classify the following claim into one of these categories if it fits well. \n",
    "If it does not fit into any of the listed categories, create a new category name.\n",
    "Here are some examples for Categories you can use, or create new ones if you need to:\n",
    "\"Business\", \"Sustainability\", \"Technology\", \"Economics\", \"Innovation\", etc.\n",
    "\n",
    "Claim: {claim}\n",
    "\n",
    "Return only the final chosen or newly created category as a JSON object following the format instructions.\n",
    "\n",
    "{format_output}\n",
    "\"\"\"\n",
    ")\n",
    "\n",
    "extract_chain = extract_prompt | llm | parser\n",
    "\n",
    "categories = []\n",
    "final_claims = []\n",
    "for item in claims:\n",
    "    categories_str = \", \".join(categories) if categories else \"No categories yet.\"\n",
    "    response = extract_chain.invoke({\"claim\": item[\"claim\"], \"categories\": categories_str})\n",
    "    chosen_category = response.category.strip()\n",
    "    if chosen_category not in categories:\n",
    "        categories.append(chosen_category)\n",
    "\n",
    "    item['category'] = chosen_category\n",
    "    final_claims.append(item)\n",
    "\n",
    "print(\"Final Claims with Categories:\", final_claims)\n",
    "print(\"All Discovered Categories:\", categories)\n",
    "print(\"Amount of claims:\", len(claims))"
   ]
  },
  {
   "cell_type": "markdown",
   "metadata": {},
   "source": [
    "## Bundle and Merge Claims"
   ]
  },
  {
   "cell_type": "code",
   "execution_count": null,
   "metadata": {},
   "outputs": [
    {
     "name": "stdout",
     "output_type": "stream",
     "text": [
      "Merged Claims:\n",
      "{'original_claims': [{'claim': 'Endiana et al. affirm that the accounting sector of a company can promote environmental conservation through environmental costs, and at the same time, improve performance when implementing a Corporate Sustainability Management System (CSMS). Mainly, Endiana et al. evidence that allocating appropriate environmental costs through CSMS can effectively improve the company’s financial performance. Besides, it is believed that a proper application of CSMS, with the disclosure of environmental activities and costs (e.g., of land, materials, energy, etc.), can enhance customer loyalty.', 'references': ['Endiana, I., Dicriyani, N. L. G. M., Adiyadnya, M. S. P., & Putra, I. P. M. J. S. (2020). The effect of green accounting on corporate sustainability and financial performance. The Journal of Asian Finance, Economics, and Business, 7(12), 731–738. https://doi.org/10.13106/jafeb.2020.vol7.no12.731'], 'dois': ['https://doi.org/10.13106/jafeb.2020.vol7.no12.731'], 'doc_source': 's10668-023-02933-7.md', 'category': 'Sustainability', 'id': 0}, {'claim': 'From the employees’ perspective, Chang et al. analyzes the effect of green product psychological ownership on their behavior and performance. Specifically, Chang et al. evidence that it is important to establish a solid Green Shared Vision to avoid green confusion, related to the environmental characteristics of a company’s products or services, and improve employees’ economic performance.', 'references': ['Chang, T. W., Wang, K. H., & Lin, Y. H. (2020). Corporate sustainability: It’s mine! effect of green product psychological ownership on the environmental behavior and performance of employees. Sustainability, 12(24), 10514. https://doi.org/10.3390/su122410514'], 'dois': ['https://doi.org/10.3390/su122410514'], 'doc_source': 's10668-023-02933-7.md', 'category': 'Sustainability', 'id': 1}, {'claim': 'Ikram et al. believe that more categories are needed in order to value specific aspects of the firms, such as social sustainability. In specific, Ikram et al. proposes nine categories: Corporate Governance; Product Responsibility; Transparency and Communication; Economic; Environmental; Social; Natural Environment and Climate Vulnerability; Energy Consumption; and Pandemic COVID-19 impact.', 'references': ['Ikram, M., Zhang, Q., Sroufe, R., & Ferasso, M. (2020). The social dimensions of corporate sustainability: An integrative framework including COVID-19 insights. Sustainability, 12, 8747. https://doi.org/10.3390/su12208747'], 'dois': ['https://doi.org/10.3390/su12208747'], 'doc_source': 's10668-023-02933-7.md', 'category': 'Social Sustainability', 'id': 8}], 'merged_claim': \"Endiana et al. assert that the accounting sector of a company can foster environmental conservation and enhance performance through the implementation of a Corporate Sustainability Management System (CSMS), by appropriately allocating environmental costs, thereby improving financial outcomes and customer loyalty. From the employees' perspective, Chang et al. emphasize the importance of establishing a solid Green Shared Vision to mitigate green confusion and boost economic performance, highlighting the role of green product psychological ownership in influencing behavior and performance. Complementing these views, Ikram et al. propose the inclusion of more categories to assess specific aspects of firms, such as social sustainability, suggesting nine categories: Corporate Governance, Product Responsibility, Transparency and Communication, Economic, Environmental, Social, Natural Environment and Climate Vulnerability, Energy Consumption, and Pandemic COVID-19 impact, to provide a comprehensive evaluation framework. Together, these perspectives underscore the multifaceted approach necessary for companies to achieve sustainability, improve financial performance, and enhance stakeholder relationships.\", 'category': 'Sustainability', 'merged_references': ['Endiana, I., Dicriyani, N. L. G. M., Adiyadnya, M. S. P., & Putra, I. P. M. J. S. (2020). The effect of green accounting on corporate sustainability and financial performance. The Journal of Asian Finance, Economics, and Business, 7(12), 731–738. https://doi.org/10.13106/jafeb.2020.vol7.no12.731', 'Chang, T. W., Wang, K. H., & Lin, Y. H. (2020). Corporate sustainability: It’s mine! effect of green product psychological ownership on the environmental behavior and performance of employees. Sustainability, 12(24), 10514. https://doi.org/10.3390/su122410514', 'Ikram, M., Zhang, Q., Sroufe, R., & Ferasso, M. (2020). The social dimensions of corporate sustainability: An integrative framework including COVID-19 insights. Sustainability, 12, 8747. https://doi.org/10.3390/su12208747']}\n",
      "{'original_claims': [{'claim': 'In a similar approach to Chang et al., Mazur and Walczynia indicate that it is relevant that the sustainable management of human resources (SMHR) is adequately implemented when the company has a solid view of its corporate sustainability perspective, with particular attention on meeting the firm’s needs without compromising the ability to meet future stakeholders’ needs.', 'references': ['Mazur, B., & Walczyn, A. (2020). Bridging sustainable human resource management and corporate sustainability. Sustainability, 12(21), 8987. https://doi.org/10.3390/su12218987'], 'dois': ['https://doi.org/10.3390/su12218987'], 'doc_source': 's10668-023-02933-7.md', 'category': 'Sustainability', 'id': 3}, {'claim': 'Xia et al highlight practices that can improve the corporate sustainability performance of a company, in terms of socio-environmental, socio-economical, and eco-efficiency aspects. Specifically, these practices are related to encouraging environmental innovation, redesigning consumers’ offer, raising support for institutions and policy measures, and organizing synergetic involvement among stakeholders.', 'references': ['Xia, L., Wei, J., Gao, S., & Ma, B. (2020). Promoting corporate sustainability through sustainable resource management: A hybrid decision-making approach incorporating social media data. Environmental Impact Assessment Review, 85, 106459. https://doi.org/10.1016/j.eiar.2020.106459'], 'dois': ['https://doi.org/10.1016/j.eiar.2020.106459'], 'doc_source': 's10668-023-02933-7.md', 'category': 'Sustainability', 'id': 4}, {'claim': 'Hahn et al. assure that the team setting of a company should be diverse in terms of views on problem-solution and sustainability issues. Authors affirm that if teams are dominated by business case-minded (more focused on economic objectives) or paradoxical types (with higher awareness on environmental and social issues), they may be less successful in achieving a significant corporate sustainability performance, while a mixed team may be better in these terms.', 'references': ['Hahn, T., Preuss, L., Pinkse, L., & Figge, F. (2014). Cognitive frames in corporate sustainability: Managerial sensemaking with paradoxical and business case frames. Academy of Management Review, 39, 463–487. https://doi.org/10.5465/amr.2012.0341'], 'dois': ['https://doi.org/10.5465/amr.2012.0341'], 'doc_source': 's10668-023-02933-7.md', 'category': 'Corporate Sustainability', 'id': 9}], 'merged_claim': \"Mazur and Walczynia, in alignment with Chang et al., emphasize the importance of implementing sustainable management of human resources (SMHR) when a company has a robust corporate sustainability perspective, ensuring that current needs are met without jeopardizing future stakeholders' needs. Complementing this, Xia et al. identify practices that enhance corporate sustainability performance across socio-environmental, socio-economical, and eco-efficiency dimensions by fostering environmental innovation, redesigning consumer offers, supporting institutional and policy measures, and promoting synergetic stakeholder involvement. Additionally, Hahn et al. argue that a diverse team setting, encompassing varied perspectives on problem-solving and sustainability, is crucial. They assert that teams overly dominated by business-case or paradoxical mindsets may struggle to achieve significant corporate sustainability performance, whereas a balanced team is more likely to succeed in these endeavors. Together, these insights underscore the multifaceted approach required to achieve effective corporate sustainability.\", 'category': 'Sustainability', 'merged_references': ['Hahn, T., Preuss, L., Pinkse, L., & Figge, F. (2014). Cognitive frames in corporate sustainability: Managerial sensemaking with paradoxical and business case frames. Academy of Management Review, 39, 463–487. https://doi.org/10.5465/amr.2012.0341', 'Mazur, B., & Walczyn, A. (2020). Bridging sustainable human resource management and corporate sustainability. Sustainability, 12(21), 8987. https://doi.org/10.3390/su12218987', 'Xia, L., Wei, J., Gao, S., & Ma, B. (2020). Promoting corporate sustainability through sustainable resource management: A hybrid decision-making approach incorporating social media data. Environmental Impact Assessment Review, 85, 106459. https://doi.org/10.1016/j.eiar.2020.106459']}\n",
      "{'original_claims': [{'claim': 'Considering the global concern that companies should align their corporate sustainability goals to international requirements, Zhang et al. propose using indicators from the global reporting initiative (GRI) for the corporate sustainability disclosure of firms. However, Zhang et al. assure that there are still challenges because firms in different countries may have a different understanding of corporate sustainability compared to international guidelines, such as those established in the GRI.', 'references': ['Zhang, J., Djajadikerta, H. G., & Trikesnki, T. (2020). Corporate sustainability disclosure’s importance in China: Financial analysts’ perception. Social Responsibility Journal, 16(8), 1169–1189. https://doi.org/10.1108/SRJ-10-2018-0272'], 'dois': ['https://doi.org/10.1108/SRJ-10-2018-0272'], 'doc_source': 's10668-023-02933-7.md', 'category': 'Sustainability', 'id': 6}, {'claim': 'Weber and Chowdury point out the relevance of evaluating corporate sustainability by separating indicators into four groups: social sustainability, environmental sustainability, green products; and services.', 'references': ['Weber, O., & Chowdhury, R. K. (2020). Corporate sustainability in Bangladeshi Banks: Proactive or reactive ethical behavior? Sustainability, 12(19), 999. https://doi.org/10.3390/su12197999'], 'dois': ['https://doi.org/10.3390/su12197999'], 'doc_source': 's10668-023-02933-7.md', 'category': 'Sustainability', 'id': 7}, {'claim': 'Baumgartner and Rauter argue that to achieve expected corporate sustainability standards, it is important to explore how management can contribute to creating value for businesses, society and nature. Mainly, the authors defend that performance could be improved through strategic management, specifically looking at its three dimensions: strategy process, strategy content, and strategy context.', 'references': ['Baumgartner, R. J., & Rauter, R. (2017). Strategic perspectives of corporate sustainability management to develop a sustainable organization. Journal of Cleaner Production, 140, 81–92. https://doi.org/10.1016/j.jclepro.2016.04.146'], 'dois': ['https://doi.org/10.1016/j.jclepro.2016.04.146'], 'doc_source': 's10668-023-02933-7.md', 'category': 'Corporate Sustainability', 'id': 10}], 'merged_claim': \"In the context of growing global concern for companies to align their corporate sustainability goals with international standards, it is proposed by Zhang et al. that firms utilize indicators from the Global Reporting Initiative (GRI) for sustainability disclosure. However, they highlight persistent challenges due to varying interpretations of corporate sustainability across different countries. Complementing this view, Weber and Chowdury emphasize the importance of evaluating corporate sustainability by categorizing indicators into four distinct groups: social sustainability, environmental sustainability, green products, and services. Meanwhile, Baumgartner and Rauter argue that achieving corporate sustainability standards necessitates exploring management's role in creating value for businesses, society, and nature. They assert that performance can be enhanced through strategic management, focusing on its dimensions: strategy process, strategy content, and strategy context. Together, these perspectives underscore the complexity and multifaceted approach required to align corporate sustainability with international guidelines while considering diverse local interpretations and strategic management practices.\", 'category': 'Sustainability', 'merged_references': ['Baumgartner, R. J., & Rauter, R. (2017). Strategic perspectives of corporate sustainability management to develop a sustainable organization. Journal of Cleaner Production, 140, 81–92. https://doi.org/10.1016/j.jclepro.2016.04.146', 'Zhang, J., Djajadikerta, H. G., & Trikesnki, T. (2020). Corporate sustainability disclosure’s importance in China: Financial analysts’ perception. Social Responsibility Journal, 16(8), 1169–1189. https://doi.org/10.1108/SRJ-10-2018-0272', 'Weber, O., & Chowdhury, R. K. (2020). Corporate sustainability in Bangladeshi Banks: Proactive or reactive ethical behavior? Sustainability, 12(19), 999. https://doi.org/10.3390/su12197999']}\n",
      "{'original_claims': [{'claim': 'Ikram et al. believe that more categories are needed in order to value specific aspects of the firms, such as social sustainability. In specific, Ikram et al. proposes nine categories: Corporate Governance; Product Responsibility; Transparency and Communication; Economic; Environmental; Social; Natural Environment and Climate Vulnerability; Energy Consumption; and Pandemic COVID-19 impact.', 'references': ['Ikram, M., Zhang, Q., Sroufe, R., & Ferasso, M. (2020). The social dimensions of corporate sustainability: An integrative framework including COVID-19 insights. Sustainability, 12, 8747. https://doi.org/10.3390/su12208747'], 'dois': ['https://doi.org/10.3390/su12208747'], 'doc_source': 's10668-023-02933-7.md', 'category': 'Social Sustainability', 'id': 8}, {'claim': 'Kafa et al. evidences the need for companies to build supply chain management processes that consider the adequate criteria to achieve corporate sustainability.', 'references': ['Kafa, N., Jaeger, A., & Sarkis, J. (2020). Harnessing corporate sustainability decision-making complexity: A field study of complementary approaches. Sustainability, 12(24), 10584. https://doi.org/10.3390/su122410584'], 'dois': ['https://doi.org/10.3390/su122410584'], 'doc_source': 's10668-023-02933-7.md', 'category': 'Sustainability', 'id': 2}], 'merged_claim': \"Ikram et al. emphasize the necessity for more categories to accurately assess specific aspects of firms, particularly focusing on social sustainability, by proposing nine distinct categories: Corporate Governance, Product Responsibility, Transparency and Communication, Economic, Environmental, Social, Natural Environment and Climate Vulnerability, Energy Consumption, and the impact of the COVID-19 pandemic. Complementing this, Kafa et al. highlight the importance for companies to develop supply chain management processes that incorporate appropriate criteria to achieve corporate sustainability, suggesting an integrated approach that aligns with Ikram et al.'s detailed categorization for a comprehensive evaluation of sustainability within corporate frameworks.\", 'category': 'Social Sustainability', 'merged_references': ['Kafa, N., Jaeger, A., & Sarkis, J. (2020). Harnessing corporate sustainability decision-making complexity: A field study of complementary approaches. Sustainability, 12(24), 10584. https://doi.org/10.3390/su122410584', 'Ikram, M., Zhang, Q., Sroufe, R., & Ferasso, M. (2020). The social dimensions of corporate sustainability: An integrative framework including COVID-19 insights. Sustainability, 12, 8747. https://doi.org/10.3390/su12208747']}\n",
      "{'original_claims': [{'claim': 'Hahn et al. assure that the team setting of a company should be diverse in terms of views on problem-solution and sustainability issues. Authors affirm that if teams are dominated by business case-minded (more focused on economic objectives) or paradoxical types (with higher awareness on environmental and social issues), they may be less successful in achieving a significant corporate sustainability performance, while a mixed team may be better in these terms.', 'references': ['Hahn, T., Preuss, L., Pinkse, L., & Figge, F. (2014). Cognitive frames in corporate sustainability: Managerial sensemaking with paradoxical and business case frames. Academy of Management Review, 39, 463–487. https://doi.org/10.5465/amr.2012.0341'], 'dois': ['https://doi.org/10.5465/amr.2012.0341'], 'doc_source': 's10668-023-02933-7.md', 'category': 'Corporate Sustainability', 'id': 9}, {'claim': 'Baumgartner and Rauter argue that to achieve expected corporate sustainability standards, it is important to explore how management can contribute to creating value for businesses, society and nature. Mainly, the authors defend that performance could be improved through strategic management, specifically looking at its three dimensions: strategy process, strategy content, and strategy context.', 'references': ['Baumgartner, R. J., & Rauter, R. (2017). Strategic perspectives of corporate sustainability management to develop a sustainable organization. Journal of Cleaner Production, 140, 81–92. https://doi.org/10.1016/j.jclepro.2016.04.146'], 'dois': ['https://doi.org/10.1016/j.jclepro.2016.04.146'], 'doc_source': 's10668-023-02933-7.md', 'category': 'Corporate Sustainability', 'id': 10}, {'claim': 'Crisóstomo et al. identify determinants for corporate sustainability performance. Within these determinants, there are: ownership concentration; companies from environmentally risky sectors; profitability; the firm’s size; growth opportunities; and dept.', 'references': ['Cristóvão, L. V., Freire, F. D. S., & Freitas, M. R. D. O. (2020). Determinants of corporate sustainability performance—Evidence from Brazilian panel data. Social Responsibility Journal, 16(8), 1053–1072. https://doi.org/10.1108/SRJ-04-2018-0102'], 'dois': ['https://doi.org/10.1108/SRJ-04-2018-0102'], 'doc_source': 's10668-023-02933-7.md', 'category': 'Sustainability', 'id': 5}], 'merged_claim': \"Hahn et al., Baumgartner and Rauter, and Crisóstomo et al. collectively emphasize the multifaceted approach required to enhance corporate sustainability performance. Hahn et al. highlight the importance of diverse team settings, suggesting that a mix of business case-minded individuals and those with a strong awareness of environmental and social issues can lead to more successful sustainability outcomes than teams dominated by either perspective alone. Complementing this, Baumgartner and Rauter focus on the role of strategic management in achieving corporate sustainability, advocating for a comprehensive exploration of strategy process, content, and context to create value for businesses, society, and nature. Further expanding on the factors influencing sustainability, Crisóstomo et al. identify key determinants such as ownership concentration, sector risk, profitability, firm size, growth opportunities, and debt, suggesting that these elements play a crucial role in shaping a company's sustainability performance. Together, these insights underscore the need for a diverse, strategically managed, and contextually aware approach to corporate sustainability.\", 'category': 'Corporate Sustainability', 'merged_references': ['Hahn, T., Preuss, L., Pinkse, L., & Figge, F. (2014). Cognitive frames in corporate sustainability: Managerial sensemaking with paradoxical and business case frames. Academy of Management Review, 39, 463–487. https://doi.org/10.5465/amr.2012.0341', 'Baumgartner, R. J., & Rauter, R. (2017). Strategic perspectives of corporate sustainability management to develop a sustainable organization. Journal of Cleaner Production, 140, 81–92. https://doi.org/10.1016/j.jclepro.2016.04.146', 'Cristóvão, L. V., Freire, F. D. S., & Freitas, M. R. D. O. (2020). Determinants of corporate sustainability performance—Evidence from Brazilian panel data. Social Responsibility Journal, 16(8), 1053–1072. https://doi.org/10.1108/SRJ-04-2018-0102']}\n"
     ]
    }
   ],
   "source": [
    "from collections import defaultdict\n",
    "from langchain.prompts import PromptTemplate\n",
    "\n",
    "for idx, claim in enumerate(final_claims):\n",
    "    claim[\"id\"] = idx\n",
    "\n",
    "claims_by_category = defaultdict(list)\n",
    "for c in final_claims:\n",
    "    claims_by_category[c[\"category\"]].append(c)\n",
    "\n",
    "all_claims = [c for cat_list in claims_by_category.values() for c in cat_list]\n",
    "\n",
    "merge_prompt = PromptTemplate(\n",
    "    input_variables=[\"claims_text\"],\n",
    "    template=\"\"\"You are a writing assistant.\n",
    "Merge the following claims into a single cohesive claim that captures all their key points but dont summarize them.:\n",
    "\n",
    "Claims:\n",
    "{claims_text}\n",
    "\n",
    "Return one paragraph unifying these claims.\n",
    "\"\"\")\n",
    "\n",
    "\n",
    "group_size = 3\n",
    "merged_claims = []\n",
    "\n",
    "def get_other_category_claim(current_category, used_claims):\n",
    "    for c in all_claims:\n",
    "        if c[\"category\"] != current_category and c[\"id\"] not in used_claims:\n",
    "            return c\n",
    "    return None\n",
    "\n",
    "used_claims = set()  \n",
    "\n",
    "for cat, cat_claims in claims_by_category.items():\n",
    "    for i in range(0, len(cat_claims), group_size):\n",
    "        group = cat_claims[i:i+group_size]\n",
    "        if len(set(g[\"category\"] for g in group)) == 1:\n",
    "            if len(group) < group_size:\n",
    "                other_claim = get_other_category_claim(cat, used_claims)\n",
    "                if other_claim is not None:\n",
    "                    group.append(other_claim)\n",
    "                    used_claims.add(other_claim[\"id\"])\n",
    "            else:\n",
    "                other_claim = get_other_category_claim(cat, used_claims)\n",
    "                if other_claim is not None:\n",
    "                    replaced = group.pop()  \n",
    "                    group.append(other_claim)\n",
    "                    used_claims.add(other_claim[\"id\"])\n",
    "\n",
    "        for g in group:\n",
    "            used_claims.add(g[\"id\"])\n",
    "\n",
    "        claims_text = \"\\n\".join([f\"- {g['claim']}\" for g in group])\n",
    "        merged_claim = (merge_prompt | llm).invoke({\"claims_text\": claims_text})\n",
    "\n",
    "        all_refs = []\n",
    "        for g in group:\n",
    "            all_refs.extend(g.get(\"references\", []))\n",
    "\n",
    "        merged_claims.append({\n",
    "            \"original_claims\": group,\n",
    "            \"merged_claim\": merged_claim.content.strip(),\n",
    "            \"category\": cat,\n",
    "            \"merged_references\": list(set(all_refs))\n",
    "        })\n",
    "\n",
    "print(\"Merged Claims:\")\n",
    "for mc in merged_claims:\n",
    "    print(mc)\n"
   ]
  },
  {
   "cell_type": "code",
   "execution_count": null,
   "metadata": {},
   "outputs": [
    {
     "name": "stdout",
     "output_type": "stream",
     "text": [
      "{\n",
      "    \"question\": \"How can a company strategically integrate a Corporate Sustainability Management System (CSMS) with a Green Shared Vision and a comprehensive evaluation framework to simultaneously enhance environmental conservation, improve financial performance, and foster stronger stakeholder relationships, while addressing specific challenges such as green confusion, social sustainability, and the impact of external factors like climate vulnerability and pandemics?\",\n",
      "    \"ground_truth\": \"Endiana et al. assert that the accounting sector of a company can foster environmental conservation and enhance performance through the implementation of a Corporate Sustainability Management System (CSMS), by appropriately allocating environmental costs, thereby improving financial outcomes and customer loyalty. From the employees' perspective, Chang et al. emphasize the importance of establishing a solid Green Shared Vision to mitigate green confusion and boost economic performance, highlighting the role of green product psychological ownership in influencing behavior and performance. Complementing these views, Ikram et al. propose the inclusion of more categories to assess specific aspects of firms, such as social sustainability, suggesting nine categories: Corporate Governance, Product Responsibility, Transparency and Communication, Economic, Environmental, Social, Natural Environment and Climate Vulnerability, Energy Consumption, and Pandemic COVID-19 impact, to provide a comprehensive evaluation framework. Together, these perspectives underscore the multifaceted approach necessary for companies to achieve sustainability, improve financial performance, and enhance stakeholder relationships.\",\n",
      "    \"references\": [\n",
      "        \"Endiana, I., Dicriyani, N. L. G. M., Adiyadnya, M. S. P., & Putra, I. P. M. J. S. (2020). The effect of green accounting on corporate sustainability and financial performance. The Journal of Asian Finance, Economics, and Business, 7(12), 731–738. https://doi.org/10.13106/jafeb.2020.vol7.no12.731\",\n",
      "        \"Chang, T. W., Wang, K. H., & Lin, Y. H. (2020). Corporate sustainability: It’s mine! effect of green product psychological ownership on the environmental behavior and performance of employees. Sustainability, 12(24), 10514. https://doi.org/10.3390/su122410514\",\n",
      "        \"Ikram, M., Zhang, Q., Sroufe, R., & Ferasso, M. (2020). The social dimensions of corporate sustainability: An integrative framework including COVID-19 insights. Sustainability, 12, 8747. https://doi.org/10.3390/su12208747\"\n",
      "    ]\n",
      "}\n",
      "{\n",
      "    \"question\": \"How can multinational corporations effectively integrate sustainable human resource management practices with innovative environmental strategies and diverse team dynamics to enhance their overall corporate sustainability performance, while simultaneously addressing socio-environmental, socio-economical, and eco-efficiency dimensions across different global markets?\",\n",
      "    \"ground_truth\": \"Mazur and Walczynia, in alignment with Chang et al., emphasize the importance of implementing sustainable management of human resources (SMHR) when a company has a robust corporate sustainability perspective, ensuring that current needs are met without jeopardizing future stakeholders' needs. Complementing this, Xia et al. identify practices that enhance corporate sustainability performance across socio-environmental, socio-economical, and eco-efficiency dimensions by fostering environmental innovation, redesigning consumer offers, supporting institutional and policy measures, and promoting synergetic stakeholder involvement. Additionally, Hahn et al. argue that a diverse team setting, encompassing varied perspectives on problem-solving and sustainability, is crucial. They assert that teams overly dominated by business-case or paradoxical mindsets may struggle to achieve significant corporate sustainability performance, whereas a balanced team is more likely to succeed in these endeavors. Together, these insights underscore the multifaceted approach required to achieve effective corporate sustainability.\",\n",
      "    \"references\": [\n",
      "        \"Hahn, T., Preuss, L., Pinkse, L., & Figge, F. (2014). Cognitive frames in corporate sustainability: Managerial sensemaking with paradoxical and business case frames. Academy of Management Review, 39, 463–487. https://doi.org/10.5465/amr.2012.0341\",\n",
      "        \"Mazur, B., & Walczyn, A. (2020). Bridging sustainable human resource management and corporate sustainability. Sustainability, 12(21), 8987. https://doi.org/10.3390/su12218987\",\n",
      "        \"Xia, L., Wei, J., Gao, S., & Ma, B. (2020). Promoting corporate sustainability through sustainable resource management: A hybrid decision-making approach incorporating social media data. Environmental Impact Assessment Review, 85, 106459. https://doi.org/10.1016/j.eiar.2020.106459\"\n",
      "    ]\n",
      "}\n",
      "{\n",
      "    \"question\": \"How can multinational corporations effectively integrate Global Reporting Initiative (GRI) indicators to achieve corporate sustainability, considering the diverse interpretations of sustainability across different countries, while also leveraging strategic management frameworks to balance the creation of value for business, society, and nature in their operations and product offerings?\",\n",
      "    \"ground_truth\": \"In the context of growing global concern for companies to align their corporate sustainability goals with international standards, it is proposed by Zhang et al. that firms utilize indicators from the Global Reporting Initiative (GRI) for sustainability disclosure. However, they highlight persistent challenges due to varying interpretations of corporate sustainability across different countries. Complementing this view, Weber and Chowdury emphasize the importance of evaluating corporate sustainability by categorizing indicators into four distinct groups: social sustainability, environmental sustainability, green products, and services. Meanwhile, Baumgartner and Rauter argue that achieving corporate sustainability standards necessitates exploring management's role in creating value for businesses, society, and nature. They assert that performance can be enhanced through strategic management, focusing on its dimensions: strategy process, strategy content, and strategy context. Together, these perspectives underscore the complexity and multifaceted approach required to align corporate sustainability with international guidelines while considering diverse local interpretations and strategic management practices.\",\n",
      "    \"references\": [\n",
      "        \"Baumgartner, R. J., & Rauter, R. (2017). Strategic perspectives of corporate sustainability management to develop a sustainable organization. Journal of Cleaner Production, 140, 81–92. https://doi.org/10.1016/j.jclepro.2016.04.146\",\n",
      "        \"Zhang, J., Djajadikerta, H. G., & Trikesnki, T. (2020). Corporate sustainability disclosure’s importance in China: Financial analysts’ perception. Social Responsibility Journal, 16(8), 1169–1189. https://doi.org/10.1108/SRJ-10-2018-0272\",\n",
      "        \"Weber, O., & Chowdhury, R. K. (2020). Corporate sustainability in Bangladeshi Banks: Proactive or reactive ethical behavior? Sustainability, 12(19), 999. https://doi.org/10.3390/su12197999\"\n",
      "    ]\n",
      "}\n",
      "{\n",
      "    \"question\": \"How can firms globally enhance their corporate sustainability efforts by integrating comprehensive criteria across various business domains, such as governance, social responsibility, and supply chain management, while addressing contemporary challenges like climate vulnerability and the COVID-19 pandemic, as suggested by the categorization framework of Ikram et al. and the supply chain integration approach of Kafa et al.?\",\n",
      "    \"ground_truth\": \"Ikram et al. emphasize the necessity for more categories to accurately assess specific aspects of firms, particularly focusing on social sustainability, by proposing nine distinct categories: Corporate Governance, Product Responsibility, Transparency and Communication, Economic, Environmental, Social, Natural Environment and Climate Vulnerability, Energy Consumption, and the impact of the COVID-19 pandemic. Complementing this, Kafa et al. highlight the importance for companies to develop supply chain management processes that incorporate appropriate criteria to achieve corporate sustainability, suggesting an integrated approach that aligns with Ikram et al.'s detailed categorization for a comprehensive evaluation of sustainability within corporate frameworks.\",\n",
      "    \"references\": [\n",
      "        \"Kafa, N., Jaeger, A., & Sarkis, J. (2020). Harnessing corporate sustainability decision-making complexity: A field study of complementary approaches. Sustainability, 12(24), 10584. https://doi.org/10.3390/su122410584\",\n",
      "        \"Ikram, M., Zhang, Q., Sroufe, R., & Ferasso, M. (2020). The social dimensions of corporate sustainability: An integrative framework including COVID-19 insights. Sustainability, 12, 8747. https://doi.org/10.3390/su12208747\"\n",
      "    ]\n",
      "}\n",
      "{\n",
      "    \"question\": \"How can corporations integrate diverse team dynamics, strategic management, and key financial determinants to create a holistic and effective sustainability strategy that enhances value for businesses, society, and the environment, while mitigating sector-specific risks and leveraging growth opportunities?\",\n",
      "    \"ground_truth\": \"Hahn et al., Baumgartner and Rauter, and Crisóstomo et al. collectively emphasize the multifaceted approach required to enhance corporate sustainability performance. Hahn et al. highlight the importance of diverse team settings, suggesting that a mix of business case-minded individuals and those with a strong awareness of environmental and social issues can lead to more successful sustainability outcomes than teams dominated by either perspective alone. Complementing this, Baumgartner and Rauter focus on the role of strategic management in achieving corporate sustainability, advocating for a comprehensive exploration of strategy process, content, and context to create value for businesses, society, and nature. Further expanding on the factors influencing sustainability, Crisóstomo et al. identify key determinants such as ownership concentration, sector risk, profitability, firm size, growth opportunities, and debt, suggesting that these elements play a crucial role in shaping a company's sustainability performance. Together, these insights underscore the need for a diverse, strategically managed, and contextually aware approach to corporate sustainability.\",\n",
      "    \"references\": [\n",
      "        \"Hahn, T., Preuss, L., Pinkse, L., & Figge, F. (2014). Cognitive frames in corporate sustainability: Managerial sensemaking with paradoxical and business case frames. Academy of Management Review, 39, 463–487. https://doi.org/10.5465/amr.2012.0341\",\n",
      "        \"Baumgartner, R. J., & Rauter, R. (2017). Strategic perspectives of corporate sustainability management to develop a sustainable organization. Journal of Cleaner Production, 140, 81–92. https://doi.org/10.1016/j.jclepro.2016.04.146\",\n",
      "        \"Cristóvão, L. V., Freire, F. D. S., & Freitas, M. R. D. O. (2020). Determinants of corporate sustainability performance—Evidence from Brazilian panel data. Social Responsibility Journal, 16(8), 1053–1072. https://doi.org/10.1108/SRJ-04-2018-0102\"\n",
      "    ]\n",
      "}\n"
     ]
    }
   ],
   "source": [
    "\n",
    "question_promt = PromptTemplate(\n",
    "    input_variables=[\"merged_claim\"],\n",
    "    template=\n",
    "    \"\"\"You have the following merged claim:\n",
    "    \"{merged_claim}\"\n",
    "    \n",
    "    Generate a single, question that, if answered, would be naturally resolved by this claim.\n",
    "    This question should:\n",
    "    - Integrate insights from multiple logically connected business domains (e.g., finance, sustainability, technology, operations).\n",
    "    - Require synthesizing and validating information potentially from multiple sections or sources, reflecting the complexity of cross-document or intra-document retrieval.\n",
    "    - Demand abstract reasoning and strategic-level interpretation, going beyond simple fact retrieval.\n",
    "    \n",
    "    The resulting question should be global in scope, and should not be answerable without the information provided in the claim.\n",
    "    \"\"\"\n",
    ")\n",
    "\n",
    "final_dataset = []\n",
    "\n",
    "for mc in merged_claims:\n",
    "    question_response = (question_promt | llm).invoke({\"merged_claim\": mc[\"merged_claim\"]})\n",
    "    question = question_response.content.strip()\n",
    "    \n",
    "    entry = {\n",
    "        \"question\": question,\n",
    "        \"ground_truth\": mc[\"merged_claim\"],\n",
    "        \"references\": mc[\"merged_references\"]\n",
    "    }\n",
    "    \n",
    "    final_dataset.append(entry)\n",
    "\n",
    "\n",
    "with open(OUTPUT_FILE, \"w\", encoding=\"utf-8\") as f:\n",
    "    json.dump({\"responses\": final_dataset}, f, indent=4, ensure_ascii=False)\n",
    "\n",
    "\n",
    "for entry in final_dataset:\n",
    "    print(json.dumps(entry, indent=4, ensure_ascii=False))"
   ]
  }
 ],
 "metadata": {
  "kernelspec": {
   "display_name": ".conda",
   "language": "python",
   "name": "python3"
  },
  "language_info": {
   "codemirror_mode": {
    "name": "ipython",
    "version": 3
   },
   "file_extension": ".py",
   "mimetype": "text/x-python",
   "name": "python",
   "nbconvert_exporter": "python",
   "pygments_lexer": "ipython3",
   "version": "3.11.10"
  }
 },
 "nbformat": 4,
 "nbformat_minor": 2
}
